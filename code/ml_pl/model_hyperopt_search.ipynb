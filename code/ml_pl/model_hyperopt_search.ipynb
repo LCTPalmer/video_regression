{
 "cells": [
  {
   "cell_type": "code",
   "execution_count": 1,
   "metadata": {
    "collapsed": false
   },
   "outputs": [
    {
     "name": "stderr",
     "output_type": "stream",
     "text": [
      "Using gpu device 0: GeForce GTX TITAN X (CNMeM is disabled, cuDNN not available)\n"
     ]
    }
   ],
   "source": [
    "%matplotlib inline\n",
    "%load_ext autoreload\n",
    "%autoreload 2\n",
    "import matplotlib.pyplot as plt\n",
    "import os, csv, time, copy\n",
    "import numpy as np\n",
    "from sklearn.externals import joblib\n",
    "from sklearn.metrics import r2_score\n",
    "from sklearn.preprocessing import normalize, MinMaxScaler\n",
    "\n",
    "from sklearn.metrics.pairwise import linear_kernel\n",
    "from multichannel.multichannel_model import MultiChannelModel, multichannel_KFoldCV\n",
    "from multichannel.theano_kernels import theano_rbf as rbf_kernel, theano_chi2 as chi2_kernel\n",
    "\n",
    "from sklearn.svm import SVR\n",
    "from sklearn.linear_model import Ridge\n",
    "from multichannel.weighted_ridge import WeightedRidge\n",
    "\n",
    "from hyperopt import hp, fmin, tpe, Trials"
   ]
  },
  {
   "cell_type": "code",
   "execution_count": 2,
   "metadata": {
    "collapsed": true
   },
   "outputs": [],
   "source": [
    "#helper save function\n",
    "save_root = '/home/luke/projects/video_regression/code/ml_pl/hyperopt_results'\n",
    "def save_trials(trials, name):\n",
    "    ext = '.pkl'\n",
    "    save_path = os.path.join(save_root, name + ext)\n",
    "    print save_path\n",
    "    joblib.dump(trials, save_path)\n",
    "def load_trials(name):\n",
    "    ext = '.pkl'\n",
    "    save_path = os.path.join(save_root, name + ext)\n",
    "    print save_path\n",
    "    return joblib.load(save_path)"
   ]
  },
  {
   "cell_type": "code",
   "execution_count": 3,
   "metadata": {
    "collapsed": true
   },
   "outputs": [],
   "source": [
    "#load the data\n",
    "dataset_root = '/home/luke/projects/THE_dataset' #directory where features/labels kept\n",
    "train_path = os.path.join(dataset_root, 'train_set_wc3d.pkl')\n",
    "test_path = os.path.join(dataset_root, 'test_set_wc3d.pkl')\n",
    "X_train, y_train = joblib.load(train_path)\n",
    "X_test, y_test = joblib.load(test_path)"
   ]
  },
  {
   "cell_type": "code",
   "execution_count": 4,
   "metadata": {
    "collapsed": true
   },
   "outputs": [],
   "source": [
    "#set up search space for linear models\n",
    "svr_lin_space = {'C': hp.lognormal('svr_C', 0, 1)}\n",
    "ridge_lin_space = {'alpha': hp.lognormal('ridge_alpha', 0, 1)}"
   ]
  },
  {
   "cell_type": "code",
   "execution_count": 5,
   "metadata": {
    "collapsed": true
   },
   "outputs": [],
   "source": [
    "#linear objectives\n",
    "def svr_lin_objective(input_dict):\n",
    "    from sklearn.svm import SVR\n",
    "    from sklearn.metrics.pairwise import linear_kernel\n",
    "    from multichannel.multichannel_model import MultiChannelModel, multichannel_KFoldCV\n",
    "    from multichannel.theano_kernels import theano_rbf as rbf_kernel, theano_chi2 as chi2_kernel\n",
    "    import csv, os, time, copy\n",
    "    import numpy as np\n",
    "    \n",
    "    #load the dataset\n",
    "    dataset_root = '/home/luke/projects/THE_dataset' #directory where features/labels kept\n",
    "    train_path = os.path.join(dataset_root, 'train_set_wc3d.pkl')\n",
    "    test_path = os.path.join(dataset_root, 'test_set_wc3d.pkl')\n",
    "    X_train, y_train = joblib.load(train_path)\n",
    "    X_test, y_test = joblib.load(test_path)\n",
    "    \n",
    "    kpt = {'kernel_func': linear_kernel, 'param_dict': {}}\n",
    "    C = input_dict['C']\n",
    "    model = SVR(kernel='precomputed', C=C)\n",
    "    mcm = MultiChannelModel(num_channels=6, model=model, kernel_param_tuple=kpt)\n",
    "    scores = multichannel_KFoldCV(mcm, X_train, y_train, n_folds=3, verbose=False)\n",
    "    loss = 1-np.mean(scores)\n",
    "    eval_time = time.time()\n",
    "    \n",
    "    #logging\n",
    "    with open('svr_lin_log.csv','a') as f:\n",
    "        fc = csv.writer(f)\n",
    "        row = [loss, eval_time, C] + gammas\n",
    "        row = [str(a) for a in row]\n",
    "        fc.writerow(row)\n",
    "    return {'loss': loss, 'eval_time': eval_time}\n",
    "\n",
    "def ridge_lin_objective(input_dict):\n",
    "    kpt = {'kernel_func': linear_kernel, 'param_dict': {}}\n",
    "    alpha = input_dict['alpha']\n",
    "    model = Ridge(alpha=alpha)\n",
    "    mcm = MultiChannelModel(num_channels=6, model=model, kernel_param_tuple=kpt)\n",
    "    scores = multichannel_KFoldCV(mcm, X_train, y_train, n_folds=3, verbose=False)\n",
    "    return {'loss': 1-np.mean(scores), 'eval_time': time.time()}"
   ]
  },
  {
   "cell_type": "code",
   "execution_count": 6,
   "metadata": {
    "collapsed": false
   },
   "outputs": [],
   "source": [
    "#nonlinear search spaces\n",
    "svr_nonlin_space = {'C': hp.lognormal('svr_C', 0, 1.5),\n",
    "                 'traj_gamma': hp.lognormal('traj_gamma', 0, 1),\n",
    "                 'hog_gamma': hp.lognormal('hog_gamma', 0, 1),\n",
    "                 'hof_gamma': hp.lognormal('hof_gamma', 0, 1),\n",
    "                 'mbhx_gamma': hp.lognormal('mbhx_gamma', 0, 1),\n",
    "                 'mbhy_gamma': hp.lognormal('mbhy_gamma', 0, 1),\n",
    "                 'c3d_gamma': hp.lognormal('c3d_gamma', 0, 1), \n",
    "                 'traj_cw': hp.uniform('traj_cw', 0, 1),\n",
    "                 'hog_cw': hp.uniform('hog_cw', 0, 1),\n",
    "                 'hof_cw': hp.uniform('hof_cw', 0, 1),\n",
    "                 'mbhx_cw': hp.uniform('mbhx_cw', 0, 1),\n",
    "                 'mbhy_cw': hp.uniform('mbhy_cw', 0, 1),\n",
    "                 'c3d_cw': hp.uniform('c3d_cw', 0, 1)}\n",
    "\n",
    "ridge_nonlin_space = copy.copy(svr_nonlin_space)\n",
    "ridge_nonlin_space.pop('C', None)\n",
    "ridge_nonlin_space['alpha'] = hp.lognormal('ridge_alpha', 0, 1.5)"
   ]
  },
  {
   "cell_type": "code",
   "execution_count": 7,
   "metadata": {
    "collapsed": true
   },
   "outputs": [],
   "source": [
    "#nonlinear objectives\n",
    "#helper function for creating the kpt\n",
    "def create_kpt(num_channels, gammas):\n",
    "    kernel_param_list = []\n",
    "    for channel in xrange(num_channels):\n",
    "        if channel < 4:\n",
    "            kdict = {'kernel_func': chi2_kernel, 'param_dict': {'gamma': gammas[channel]}}\n",
    "        elif channel == 5:\n",
    "            kdict = {'kernel_func': rbf_kernel, 'param_dict': {'gamma': gammas[channel]}}\n",
    "        kernel_param_list.append(kdict)\n",
    "    kernel_param_tuple = tuple(kernel_param_list)\n",
    "    return kernel_param_tuple\n",
    "\n",
    "def svr_nonlin_objective(x):\n",
    "    gammas = [x['traj_gamma'], x['hog_gamma'], x['hof_gamma'],\n",
    "              x['mbhx_gamma'], x['mbhy_gamma'], x['c3d_gamma']]\n",
    "    kpt = create_kpt(6, gammas)\n",
    "    C = x['C']\n",
    "    model = SVR(kernel='precomputed', C=C)\n",
    "    mcm = MultiChannelModel(num_channels=6, model=model, kernel_param_tuple=kpt)\n",
    "    scores = multichannel_KFoldCV(mcm, X_train, y_train, n_folds=3, verbose=False)\n",
    "    loss = 1-np.mean(scores)\n",
    "    eval_time = time.time()\n",
    "    \n",
    "    #logging\n",
    "    with open('svr_nonlin_log.csv','a') as f:\n",
    "        fc = csv.writer(f)\n",
    "        row = [loss, eval_time, C] + gammas\n",
    "        row = [str(a) for a in row]\n",
    "        fc.writerow(row)\n",
    "    return {'loss': loss, 'eval_time': eval_time}\n",
    "\n",
    "def ridge_nonlin_objective(x):\n",
    "    gammas = [x['traj_gamma'], x['hog_gamma'], x['hof_gamma'],\n",
    "              x['mbhx_gamma'], x['mbhy_gamma'], x['c3d_gamma']]\n",
    "    kpt = create_kpt(6, gammas)\n",
    "    alpha = x['alpha']\n",
    "    model = Ridge(alpha=alpha)\n",
    "    mcm = MultiChannelModel(num_channels=6, model=model, kernel_param_tuple=kpt)\n",
    "    scores = multichannel_KFoldCV(mcm, X_train, y_train, n_folds=3, verbose=False)\n",
    "    loss = 1-np.mean(scores)\n",
    "    eval_time = time.time()\n",
    "    \n",
    "    #logging\n",
    "    with open('ridge_nonlin_log.csv','a') as f:\n",
    "        fc = csv.writer(f)\n",
    "        row = [loss, eval_time, alpha] + gammas\n",
    "        row = [str(a) for a in row]\n",
    "        fc.writerow(row)\n",
    "    return {'loss': loss, 'eval_time': eval_time}"
   ]
  },
  {
   "cell_type": "code",
   "execution_count": null,
   "metadata": {
    "collapsed": true
   },
   "outputs": [],
   "source": [
    "def run_exp(objective, space, name, max_evals=10):\n",
    "    #set up trials and run experiment\n",
    "    trials = Trials()\n",
    "    best = fmin(objective,\n",
    "        space=space,\n",
    "        algo=tpe.suggest,\n",
    "        max_evals=max_evals,\n",
    "        trials=trials)\n",
    "    #save the trials structure\n",
    "    save_trials(trials, name)\n",
    "    return trials, best"
   ]
  },
  {
   "cell_type": "code",
   "execution_count": null,
   "metadata": {
    "collapsed": false
   },
   "outputs": [],
   "source": [
    "ridge_nonlin_trials, best = run_exp(objective=ridge_nonlin_objective, \n",
    "                                  space=ridge_nonlin_space, name='ridge_nonlin', max_evals=1500)"
   ]
  },
  {
   "cell_type": "code",
   "execution_count": 2,
   "metadata": {
    "collapsed": false
   },
   "outputs": [
    {
     "ename": "NameError",
     "evalue": "name 'ridge_nonlin_trials' is not defined",
     "output_type": "error",
     "traceback": [
      "\u001b[1;31m---------------------------------------------------------------------------\u001b[0m",
      "\u001b[1;31mNameError\u001b[0m                                 Traceback (most recent call last)",
      "\u001b[1;32m<ipython-input-2-4a94771e3c73>\u001b[0m in \u001b[0;36m<module>\u001b[1;34m()\u001b[0m\n\u001b[1;32m----> 1\u001b[1;33m \u001b[0mridge_nonlin_trials\u001b[0m\u001b[1;33m\u001b[0m\u001b[0m\n\u001b[0m",
      "\u001b[1;31mNameError\u001b[0m: name 'ridge_nonlin_trials' is not defined"
     ]
    }
   ],
   "source": [
    "ridge_nonlin_trials"
   ]
  },
  {
   "cell_type": "code",
   "execution_count": 98,
   "metadata": {
    "collapsed": false
   },
   "outputs": [
    {
     "name": "stdout",
     "output_type": "stream",
     "text": [
      "/home/luke/projects/video_regression/code/ml_pl/hyperopt_results/svr_nonlin.pkl\n"
     ]
    }
   ],
   "source": [
    "svr_nonlin_trials = load_trials('svr_nonlin')"
   ]
  },
  {
   "cell_type": "code",
   "execution_count": 115,
   "metadata": {
    "collapsed": false
   },
   "outputs": [
    {
     "data": {
      "text/plain": [
       "332.2247200012207"
      ]
     },
     "execution_count": 115,
     "metadata": {},
     "output_type": "execute_result"
    }
   ],
   "source": [
    "svr_nonlin_trials.results[-1]['eval_time']-svr_nonlin_trials.results[0]['eval_time']"
   ]
  },
  {
   "cell_type": "code",
   "execution_count": null,
   "metadata": {
    "collapsed": true
   },
   "outputs": [],
   "source": [
    "ridge_lin_trials = run_exp(objective=svr_lin_objective, \n",
    "                           space=svr_lin_space, name='svr_lin', max_evals=10)"
   ]
  }
 ],
 "metadata": {
  "kernelspec": {
   "display_name": "Python 2",
   "language": "python",
   "name": "python2"
  },
  "language_info": {
   "codemirror_mode": {
    "name": "ipython",
    "version": 2
   },
   "file_extension": ".py",
   "mimetype": "text/x-python",
   "name": "python",
   "nbconvert_exporter": "python",
   "pygments_lexer": "ipython2",
   "version": "2.7.11"
  }
 },
 "nbformat": 4,
 "nbformat_minor": 0
}
