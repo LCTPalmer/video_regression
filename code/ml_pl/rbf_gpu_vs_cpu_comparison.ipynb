{
 "cells": [
  {
   "cell_type": "markdown",
   "metadata": {},
   "source": [
    "## Theano implemented RBF and chi-squared kernels vs. sklearn <br>\n",
    "In training relatively large (1500 x 4000 training data size in my case) support vector machines, the main time component is the calculation of a Gram matrix (or Kernel matrix). This is effectively a full pairwise distance matrix between instances - the number of operations is therefore polynomial in the number of dimensions and samples.\n",
    "\n",
    "My data is actually multichannel, necessitating calculating 5 Gram matrices instead of one - so I turned to Theano and a GPU to try to speed up the kernel computations."
   ]
  },
  {
   "cell_type": "code",
   "execution_count": 168,
   "metadata": {
    "collapsed": false
   },
   "outputs": [],
   "source": [
    "%matplotlib inline\n",
    "from multichannel_svr.theano_kernels import theano_rbf, theano_chi2\n",
    "from sklearn.metrics.pairwise import rbf_kernel, chi2_kernel\n",
    "import numpy as np\n",
    "from time import time\n",
    "import matplotlib.pyplot as plt"
   ]
  },
  {
   "cell_type": "code",
   "execution_count": 171,
   "metadata": {
    "collapsed": true
   },
   "outputs": [],
   "source": [
    "#run theano functions to compile computational graph\n",
    "_ = theano_rbf(np.random.random((10,10)), np.random.random((10,10)))\n",
    "_ = theano_chi2(np.random.random((10,10)), np.random.random((10,10)))"
   ]
  },
  {
   "cell_type": "code",
   "execution_count": 172,
   "metadata": {
    "collapsed": true
   },
   "outputs": [],
   "source": [
    "#utility func for timing\n",
    "def time_algo(algo, X, Y):\n",
    "    t0 = time()\n",
    "    _ = algo(X,Y)\n",
    "    return time() - t0"
   ]
  },
  {
   "cell_type": "code",
   "execution_count": 78,
   "metadata": {
    "collapsed": false
   },
   "outputs": [],
   "source": [
    "#do grid search across number of dimensions/observations\n",
    "#for RBF\n",
    "exponent_list = range(14)\n",
    "num_obs_list = [2**xi for xi in exponent_list]\n",
    "num_dim_list = [2**xi for xi in exponent_list]\n",
    "\n",
    "#result array\n",
    "result_array_rbf = np.empty((len(exponent_list),len(exponent_list),2)) #third dim is for different implementations\n",
    "\n",
    "#loop over nums\n",
    "for obs_ind, num_obs in enumerate(num_obs_list):\n",
    "    for dim_ind, num_dim in enumerate(num_dim_list):\n",
    "        \n",
    "        num_its = 3\n",
    "        loop_array = np.empty((num_its,1,2)) #\n",
    "        for ii in range(num_its):\n",
    "            X = np.random.random((num_obs, num_dim))\n",
    "            loop_array[ii,0,0] = time_algo(theano_rbf, X, X)\n",
    "            loop_array[ii,0,1] = time_algo(rbf_kernel, X, X)\n",
    "        \n",
    "        #take mean of the n runs\n",
    "        loop_result = np.mean(loop_array, axis=0, keepdims=True)\n",
    "        \n",
    "        #put into result array\n",
    "        result_array_rbf[obs_ind, dim_ind, :] = loop_result\n",
    "            "
   ]
  },
  {
   "cell_type": "code",
   "execution_count": null,
   "metadata": {
    "collapsed": false
   },
   "outputs": [],
   "source": [
    "#do grid search across number of dimensions/observations\n",
    "#for RBF\n",
    "exponent_list = range(14)\n",
    "num_obs_list = [2**xi for xi in exponent_list]\n",
    "num_dim_list = [2**xi for xi in exponent_list]\n",
    "\n",
    "#result array\n",
    "result_array_chi2 = np.empty((len(exponent_list),len(exponent_list),2)) #third dim is for different implementations\n",
    "\n",
    "#loop over nums\n",
    "for obs_ind, num_obs in enumerate(num_obs_list):\n",
    "    for dim_ind, num_dim in enumerate(num_dim_list):\n",
    "        \n",
    "        num_its = 1\n",
    "        loop_array = np.empty((num_its,1,2)) #\n",
    "        for ii in range(num_its):\n",
    "            X = np.random.random((num_obs, num_dim))\n",
    "            loop_array[ii,0,0] = time_algo(theano_chi2, X, X)\n",
    "            loop_array[ii,0,1] = time_algo(chi2_kernel, X, X)\n",
    "        \n",
    "        #take mean of the n runs\n",
    "        loop_result = np.mean(loop_array, axis=0, keepdims=True)\n",
    "        \n",
    "        #put into result array\n",
    "        result_array_chi2[obs_ind, dim_ind, :] = loop_result"
   ]
  },
  {
   "cell_type": "code",
   "execution_count": 169,
   "metadata": {
    "collapsed": false
   },
   "outputs": [],
   "source": [
    "#plot result\n",
    "def plot_heatmap(result_array, numerator_layer=1, denominator_layer=0, figsize=(15,12), axis_start=0, text_label=False):\n",
    "\n",
    "    #prep the data\n",
    "    data = result_array[:,:,numerator_layer] / result_array[:,:,denominator_layer]\n",
    "\n",
    "    #draw the data\n",
    "    fig, ax = plt.subplots(figsize=figsize)\n",
    "    heatmap = ax.pcolor(data, cmap=plt.cm.Blues)\n",
    "\n",
    "    #set the ticks\n",
    "    ax.set_xticks(np.arange(data.shape[0])+.5, minor=False)\n",
    "    ax.set_yticks(np.arange(data.shape[1])+.5, minor=False)\n",
    "    ax.set_xticklabels(np.arange(data.shape[0])+axis_start)\n",
    "    ax.set_yticklabels(np.arange(data.shape[1])+axis_start)\n",
    "\n",
    "    #axis labels\n",
    "    axis_fontdict={'fontsize': 14}\n",
    "    ax.set_xlabel(r'Observations (2$^x$)', labelpad=20, fontdict=axis_fontdict)\n",
    "    ax.set_ylabel(r'Dimensions (2$^x$)', labelpad=20, fontdict=axis_fontdict)\n",
    "    \n",
    "    #colorbar\n",
    "    cb = fig.colorbar(heatmap)\n",
    "    cb.set_label('Ratio of time taken (sklearn / theano)', labelpad=20, fontdict=axis_fontdict)\n",
    "    \n",
    "    #write text on squares\n",
    "    if text_label:\n",
    "        for y in range(data.shape[1]):\n",
    "            for x in range(data.shape[0]):\n",
    "                ax.text(x+.5, y+.5, '%.2f'%data[x,y],\n",
    "                        horizontalalignment='center',\n",
    "                        verticalalignment='center',\n",
    "                        #weight='bold',\n",
    "                        fontsize=14)\n",
    "    \n",
    "    return fig, ax\n"
   ]
  },
  {
   "cell_type": "code",
   "execution_count": 160,
   "metadata": {
    "collapsed": false
   },
   "outputs": [
    {
     "data": {
      "text/plain": [
       "<matplotlib.text.Text at 0x19c99910>"
      ]
     },
     "execution_count": 160,
     "metadata": {},
     "output_type": "execute_result"
    },
    {
     "data": {
      "image/png": "[encoded data removed]",
      "text/plain": [
       "<matplotlib.figure.Figure at 0x19b8c650>"
      ]
     },
     "metadata": {},
     "output_type": "display_data"
    }
   ],
   "source": [
    "fig, ax = plot_heatmap(result_array)\n",
    "ax.set_title('theano vs sklearn RBF implementation', fontdict={'fontsize': 20})"
   ]
  },
  {
   "cell_type": "code",
   "execution_count": null,
   "metadata": {
    "collapsed": false
   },
   "outputs": [],
   "source": [
    "fig, ax = plot_heatmap(result_array[7:,7:,:], axis_start=7, text_label=True, figsize=(10,8))\n",
    "ax.set_title('theano vs sklearn RBF implementation (detail)', fontdict={'fontsize': 20})"
   ]
  },
  {
   "cell_type": "code",
   "execution_count": null,
   "metadata": {
    "collapsed": true
   },
   "outputs": [],
   "source": []
  }
 ],
 "metadata": {
  "kernelspec": {
   "display_name": "Python 2",
   "language": "python",
   "name": "python2"
  },
  "language_info": {
   "codemirror_mode": {
    "name": "ipython",
    "version": 2
   },
   "file_extension": ".py",
   "mimetype": "text/x-python",
   "name": "python",
   "nbconvert_exporter": "python",
   "pygments_lexer": "ipython2",
   "version": "2.7.3"
  }
 },
 "nbformat": 4,
 "nbformat_minor": 0
}
