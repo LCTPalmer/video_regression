{
 "cells": [
  {
   "cell_type": "code",
   "execution_count": 1,
   "metadata": {
    "collapsed": false
   },
   "outputs": [
    {
     "name": "stderr",
     "output_type": "stream",
     "text": [
      "Using gpu device 0: GeForce GTX 560 Ti\n"
     ]
    }
   ],
   "source": [
    "from multichannel_svr.theano_rbf import theano_rbf\n",
    "from sklearn.metrics.pairwise import rbf_kernel\n",
    "import numpy as np\n",
    "from time import time"
   ]
  },
  {
   "cell_type": "code",
   "execution_count": 19,
   "metadata": {
    "collapsed": false
   },
   "outputs": [],
   "source": [
    "\n",
    "\n",
    "X = np.array([[1,0],[2,3]])\n",
    "X = np.random.random((1200,4096))"
   ]
  },
  {
   "cell_type": "code",
   "execution_count": 20,
   "metadata": {
    "collapsed": false
   },
   "outputs": [],
   "source": [
    "t0 = time()\n",
    "tk = theano_rbf(X,X)\n",
    "tk_time = time()-t0"
   ]
  },
  {
   "cell_type": "code",
   "execution_count": 21,
   "metadata": {
    "collapsed": false
   },
   "outputs": [],
   "source": [
    "t0 = time()\n",
    "sk = rbf_kernel(X,X) #test w gamma = 1, but default is .5\n",
    "sk_time = time()-t0"
   ]
  },
  {
   "cell_type": "code",
   "execution_count": 22,
   "metadata": {
    "collapsed": false
   },
   "outputs": [
    {
     "name": "stdout",
     "output_type": "stream",
     "text": [
      "3.45068380136\n"
     ]
    }
   ],
   "source": [
    "print sk_time/float(tk_time)"
   ]
  },
  {
   "cell_type": "code",
   "execution_count": 26,
   "metadata": {
    "collapsed": false
   },
   "outputs": [
    {
     "data": {
      "text/plain": [
       "array([[  1.00415902e+000,   7.07101315e-280,   2.69922276e-281, ...,\n",
       "          1.16018132e-282,   5.18105284e-292,   9.92072551e-289],\n",
       "       [  7.07101315e-280,   1.00219968e+000,   1.76796110e-287, ...,\n",
       "          1.31164676e-290,   6.95317580e-283,   4.64716981e-278],\n",
       "       [  2.69922276e-281,   1.76796110e-287,   1.00171045e+000, ...,\n",
       "          9.95523404e-287,   8.37155993e-284,   1.89389240e-284],\n",
       "       ..., \n",
       "       [  1.16018132e-282,   1.31164676e-290,   9.95523404e-287, ...,\n",
       "          9.97074600e-001,   1.29350317e-286,   3.83412966e-289],\n",
       "       [  5.18105284e-292,   6.95317580e-283,   8.37155993e-284, ...,\n",
       "          1.29350317e-286,   1.00219968e+000,   2.33683822e-281],\n",
       "       [  9.92072551e-289,   4.64716981e-278,   1.89389240e-284, ...,\n",
       "          3.83412966e-289,   2.33683822e-281,   1.00146592e+000]])"
      ]
     },
     "execution_count": 26,
     "metadata": {},
     "output_type": "execute_result"
    }
   ],
   "source": [
    "tk"
   ]
  },
  {
   "cell_type": "code",
   "execution_count": 17,
   "metadata": {
    "collapsed": true
   },
   "outputs": [],
   "source": [
    "a = np.exp(np.random.random((1200,4000)))"
   ]
  },
  {
   "cell_type": "code",
   "execution_count": null,
   "metadata": {
    "collapsed": true
   },
   "outputs": [],
   "source": []
  }
 ],
 "metadata": {
  "kernelspec": {
   "display_name": "Python 2",
   "language": "python",
   "name": "python2"
  },
  "language_info": {
   "codemirror_mode": {
    "name": "ipython",
    "version": 2
   },
   "file_extension": ".py",
   "mimetype": "text/x-python",
   "name": "python",
   "nbconvert_exporter": "python",
   "pygments_lexer": "ipython2",
   "version": "2.7.3"
  }
 },
 "nbformat": 4,
 "nbformat_minor": 0
}
