{
 "cells": [
  {
   "cell_type": "code",
   "execution_count": 50,
   "metadata": {
    "collapsed": false
   },
   "outputs": [],
   "source": [
    "%matplotlib inline\n",
    "from pl_random import db_layer\n",
    "from pl_random.mydb import Job, Video, create_db\n",
    "from analysis.pairwise_mat import PairwiseMat \n",
    "import numpy as np \n",
    "import pandas as pd \n",
    "import matplotlib.pyplot as plt \n",
    "import os, csv, time\n",
    "# import mpld3\n",
    "# mpld3.enable_notebook()"
   ]
  },
  {
   "cell_type": "code",
   "execution_count": 3,
   "metadata": {
    "collapsed": true
   },
   "outputs": [],
   "source": [
    "#get db_address\n",
    "db_path = 'pl_random/database/it36.db'\n",
    "engine, Base = create_db('sqlite:///' + db_path)\n",
    "db_layer.session.bind = engine#connect the engine to the db_layer session object"
   ]
  },
  {
   "cell_type": "code",
   "execution_count": 4,
   "metadata": {
    "collapsed": true
   },
   "outputs": [],
   "source": [
    "#set the translation path\n",
    "trans_path = 'pl_random/database/id_video_mapping.csv'\n",
    "df_trans = pd.read_csv(trans_path)"
   ]
  },
  {
   "cell_type": "code",
   "execution_count": 5,
   "metadata": {
    "collapsed": false
   },
   "outputs": [
    {
     "data": {
      "text/html": [
       "<div>\n",
       "<table border=\"1\" class=\"dataframe\">\n",
       "  <thead>\n",
       "    <tr style=\"text-align: right;\">\n",
       "      <th></th>\n",
       "      <th>id</th>\n",
       "      <th>original</th>\n",
       "    </tr>\n",
       "  </thead>\n",
       "  <tbody>\n",
       "    <tr>\n",
       "      <th>0</th>\n",
       "      <td>001ab60c-62eb-4bd4-a3bc-47b4eb03e8e5</td>\n",
       "      <td>/p2/2015_08_13-09_28_30__09_28_32_V1439450910_...</td>\n",
       "    </tr>\n",
       "    <tr>\n",
       "      <th>1</th>\n",
       "      <td>002123df-0986-451f-8b39-f285b8f55eb3</td>\n",
       "      <td>/p1/2015_07_22-16_27_13__16_27_15_V1437575233_...</td>\n",
       "    </tr>\n",
       "    <tr>\n",
       "      <th>2</th>\n",
       "      <td>00362b9b-c49d-4ff7-9572-0c365b6683d1</td>\n",
       "      <td>/p2/2015_08_06-09_51_55__09_51_57_V1438847515_...</td>\n",
       "    </tr>\n",
       "    <tr>\n",
       "      <th>3</th>\n",
       "      <td>006b6ca7-6516-4994-94dc-483926ac4ea8</td>\n",
       "      <td>/p2/2015_08_20-16_44_59__16_45_01_V1440081899_...</td>\n",
       "    </tr>\n",
       "    <tr>\n",
       "      <th>4</th>\n",
       "      <td>0071febf-69b7-4c3e-9916-ee9cafae2bb6</td>\n",
       "      <td>/p1/2015_07_22-16_34_25__16_34_27_V1437575665_...</td>\n",
       "    </tr>\n",
       "  </tbody>\n",
       "</table>\n",
       "</div>"
      ],
      "text/plain": [
       "                                     id  \\\n",
       "0  001ab60c-62eb-4bd4-a3bc-47b4eb03e8e5   \n",
       "1  002123df-0986-451f-8b39-f285b8f55eb3   \n",
       "2  00362b9b-c49d-4ff7-9572-0c365b6683d1   \n",
       "3  006b6ca7-6516-4994-94dc-483926ac4ea8   \n",
       "4  0071febf-69b7-4c3e-9916-ee9cafae2bb6   \n",
       "\n",
       "                                            original  \n",
       "0  /p2/2015_08_13-09_28_30__09_28_32_V1439450910_...  \n",
       "1  /p1/2015_07_22-16_27_13__16_27_15_V1437575233_...  \n",
       "2  /p2/2015_08_06-09_51_55__09_51_57_V1438847515_...  \n",
       "3  /p2/2015_08_20-16_44_59__16_45_01_V1440081899_...  \n",
       "4  /p1/2015_07_22-16_34_25__16_34_27_V1437575665_...  "
      ]
     },
     "execution_count": 5,
     "metadata": {},
     "output_type": "execute_result"
    }
   ],
   "source": [
    "df_trans.head()"
   ]
  },
  {
   "cell_type": "code",
   "execution_count": 6,
   "metadata": {
    "collapsed": true
   },
   "outputs": [],
   "source": [
    "jobs = db_layer.session.query(Job.video1, Job.video2, Job.result, Job.iteration).all()"
   ]
  },
  {
   "cell_type": "code",
   "execution_count": 7,
   "metadata": {
    "collapsed": false
   },
   "outputs": [],
   "source": [
    "#filter jobs (only after 3rd iteration)\n",
    "jobs = filter(lambda x: x[3]>2, jobs)"
   ]
  },
  {
   "cell_type": "code",
   "execution_count": 9,
   "metadata": {
    "collapsed": false
   },
   "outputs": [],
   "source": [
    "jobs = np.array(jobs)"
   ]
  },
  {
   "cell_type": "code",
   "execution_count": 43,
   "metadata": {
    "collapsed": false
   },
   "outputs": [],
   "source": [
    "#see rating stability through iterations\n",
    "\n",
    "#declare pairwise mat\n",
    "PCM = PairwiseMat(num_items=1812, calc_ts=True)\n",
    "PCM_rand = PairwiseMat(num_items=1812, calc_ts=True)\n",
    "\n",
    "correlation_list = []\n",
    "correlation_list_rand = []\n",
    "\n",
    "ratings = np.zeros((1,1812))\n",
    "ratings_rand = np.zeros_like(ratings)\n",
    "for iteration in set(jobs[:,3]):\n",
    "    \n",
    "    #go iteration by iteration\n",
    "    cur_jobs = jobs[jobs[:,3]==iteration]\n",
    "    \n",
    "    for job in cur_jobs:\n",
    "        v1 = job[0] - 1 #zero-based index for pcm\n",
    "        v2 = job[1] - 1 \n",
    "        winner = job[2]\n",
    "\n",
    "        if winner == 1:\n",
    "            result = (v1,v2)\n",
    "        elif winner == 2:\n",
    "            result = (v2,v1)\n",
    "\n",
    "        PCM.add_result(result)\n",
    "        \n",
    "        #for random variant\n",
    "        winner_rand = np.random.randint(1,3)\n",
    "        if winner_rand == 1:\n",
    "            result_rand = (v1,v2)\n",
    "        elif winner_rand == 2:\n",
    "            result_rand = (v2,v1)\n",
    "        PCM_rand.add_result(result_rand)\n",
    "        \n",
    "    #get correlation between this and previous\n",
    "    ratings_new = np.array([x.mu for x in PCM.ts_ratings]) \n",
    "    #calc correlation\n",
    "    corrcoef = np.corrcoef(ratings,ratings_new)[0,1]\n",
    "    correlation_list.append(corrcoef)\n",
    "    ratings = ratings_new.copy()\n",
    "    \n",
    "    #same for random\n",
    "    #get correlation between this and previous\n",
    "    ratings_new_rand = np.array([x.mu for x in PCM_rand.ts_ratings]) \n",
    "    #calc correlation\n",
    "    corrcoef = np.corrcoef(ratings_rand,ratings_new_rand)[0,1]\n",
    "    correlation_list_rand.append(corrcoef)\n",
    "    ratings_rand = ratings_new_rand.copy()"
   ]
  },
  {
   "cell_type": "code",
   "execution_count": 55,
   "metadata": {
    "collapsed": false
   },
   "outputs": [
    {
     "data": {
      "text/plain": [
       "<matplotlib.legend.Legend at 0x7f3e6f5fe750>"
      ]
     },
     "execution_count": 55,
     "metadata": {},
     "output_type": "execute_result"
    },
    {
     "data": {
      "image/png": "[encoded data removed]",
      "text/plain": [
       "<matplotlib.figure.Figure at 0x7f3e6f6e3a50>"
      ]
     },
     "metadata": {},
     "output_type": "display_data"
    }
   ],
   "source": [
    "#plot\n",
    "fig, ax  = plt.subplots(figsize=(10,6))\n",
    "\n",
    "ax.plot(range(len(correlation_list)-1), correlation_list[1:],\n",
    "        color='red', linewidth = 2, label='Observed outcomes')\n",
    "ax.plot(range(len(correlation_list_rand)-1), correlation_list_rand[1:],\n",
    "        color='black', linestyle='--', label='Random outcomes')\n",
    "\n",
    "ax.set_xlabel('Iteration')\n",
    "ax.set_ylabel('Between iteration correlation')\n",
    "ax.grid(True)\n",
    "plt.legend(loc=4)"
   ]
  },
  {
   "cell_type": "code",
   "execution_count": null,
   "metadata": {
    "collapsed": true
   },
   "outputs": [],
   "source": [
    "plt.hist(rating_new_rand)"
   ]
  },
  {
   "cell_type": "code",
   "execution_count": null,
   "metadata": {
    "collapsed": true
   },
   "outputs": [],
   "source": []
  }
 ],
 "metadata": {
  "kernelspec": {
   "display_name": "Python 2",
   "language": "python",
   "name": "python2"
  },
  "language_info": {
   "codemirror_mode": {
    "name": "ipython",
    "version": 2
   },
   "file_extension": ".py",
   "mimetype": "text/x-python",
   "name": "python",
   "nbconvert_exporter": "python",
   "pygments_lexer": "ipython2",
   "version": "2.7.6"
  }
 },
 "nbformat": 4,
 "nbformat_minor": 0
}
