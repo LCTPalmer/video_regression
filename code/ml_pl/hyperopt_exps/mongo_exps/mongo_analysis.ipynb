{
 "cells": [
  {
   "cell_type": "code",
   "execution_count": 12,
   "metadata": {
    "collapsed": true
   },
   "outputs": [],
   "source": [
    "%matplotlib inline\n",
    "from hyperopt.mongoexp import MongoTrials\n",
    "import matplotlib.pyplot as plt\n",
    "import numpy as np\n",
    "import time"
   ]
  },
  {
   "cell_type": "code",
   "execution_count": 3,
   "metadata": {
    "collapsed": false
   },
   "outputs": [
    {
     "name": "stdout",
     "output_type": "stream",
     "text": [
      "ftp://localhost:1234/svr_nonlin/jobs\n",
      "ParseResult(scheme='ftp', netloc='localhost:1234', path='/svr_nonlin/jobs', params='', query='', fragment='')\n"
     ]
    }
   ],
   "source": [
    "exp_type = 'svr_nonlin' #ridge_nonlin_cweight\n",
    "db_path = 'mongo://localhost:1234/' + exp_type + '/jobs'\n",
    "trials = MongoTrials(db_path)"
   ]
  },
  {
   "cell_type": "code",
   "execution_count": 4,
   "metadata": {
    "collapsed": false,
    "scrolled": true
   },
   "outputs": [
    {
     "data": {
      "text/plain": [
       "500"
      ]
     },
     "execution_count": 4,
     "metadata": {},
     "output_type": "execute_result"
    }
   ],
   "source": [
    "len(trials.results)"
   ]
  },
  {
   "cell_type": "code",
   "execution_count": 5,
   "metadata": {
    "collapsed": false
   },
   "outputs": [
    {
     "name": "stdout",
     "output_type": "stream",
     "text": [
      "29969.088634 59.938177268\n"
     ]
    }
   ],
   "source": [
    "total_time = trials.results[-3]['eval_time'] - trials.results[0]['eval_time']\n",
    "mean_time = total_time/float(len(trials.results))\n",
    "print total_time, mean_time"
   ]
  },
  {
   "cell_type": "code",
   "execution_count": 6,
   "metadata": {
    "collapsed": false
   },
   "outputs": [
    {
     "data": {
      "text/plain": [
       "({u'c3d_gamma': [0.7448057839668178],\n",
       "  u'hof_gamma': [0.07271759288516493],\n",
       "  u'hog_gamma': [0.10584102051488271],\n",
       "  u'mbhx_gamma': [0.14148162765679317],\n",
       "  u'mbhy_gamma': [18.297798578093797],\n",
       "  u'svr_C': [5.612053092224692],\n",
       "  u'traj_gamma': [0.03973091601387516]},\n",
       " 0.39232548677316226,\n",
       " 268)"
      ]
     },
     "execution_count": 6,
     "metadata": {},
     "output_type": "execute_result"
    }
   ],
   "source": [
    "dict(trials.best_trial['misc']['vals']), trials.best_trial['result']['loss'], trials.best_trial['tid']"
   ]
  },
  {
   "cell_type": "code",
   "execution_count": 125,
   "metadata": {
    "collapsed": false
   },
   "outputs": [
    {
     "data": {
      "text/plain": [
       "[<matplotlib.lines.Line2D at 0x7f78bb1387d0>]"
      ]
     },
     "execution_count": 125,
     "metadata": {},
     "output_type": "execute_result"
    },
    {
     "data": {
      "image/png": "[encoded data removed]",
      "text/plain": [
       "<matplotlib.figure.Figure at 0x7f78b6c57c50>"
      ]
     },
     "metadata": {},
     "output_type": "display_data"
    }
   ],
   "source": [
    "#plot losses through trials\n",
    "res = [r['result']['loss'] for r in trials.trials[:-3]]\n",
    "plt.plot(res)"
   ]
  },
  {
   "cell_type": "code",
   "execution_count": 7,
   "metadata": {
    "collapsed": false
   },
   "outputs": [],
   "source": [
    "#plot only the new bests\n",
    "best = np.inf\n",
    "best_hist = []\n",
    "loss_hist = []\n",
    "for tid, t in enumerate(trials.trials):\n",
    "    l = t['result']['loss']\n",
    "    if l < best:\n",
    "        best = l\n",
    "        loss_hist.append([l, tid])\n",
    "        best_hist.append([l, tid])\n",
    "    else:\n",
    "        loss_hist.append([best, tid])\n",
    "loss_hist_array = np.array(loss_hist)\n",
    "best_hist_array = np.array(best_hist)"
   ]
  },
  {
   "cell_type": "code",
   "execution_count": 8,
   "metadata": {
    "collapsed": false
   },
   "outputs": [],
   "source": [
    "def plot_optimisation(ax, num_trials, loss_hist_array, best_hist_array, alpha=1):\n",
    "    ax.plot(loss_hist_array[:num_trials,1], 1-loss_hist_array[:num_trials,0], 'k--', alpha=alpha)\n",
    "    ax.plot(best_hist_array[:num_trials,1], 1-best_hist_array[:num_trials,0], 'ro', alpha=alpha)\n",
    "    ax.set_xlabel('Optimisation trial')\n",
    "    ax.set_ylabel('Cross-validation $R^2$')\n",
    "    ax.grid()\n",
    "    return ax"
   ]
  },
  {
   "cell_type": "code",
   "execution_count": 9,
   "metadata": {
    "collapsed": false
   },
   "outputs": [
    {
     "data": {
      "text/plain": [
       "<matplotlib.legend.Legend at 0x7fd9240e9d50>"
      ]
     },
     "execution_count": 9,
     "metadata": {},
     "output_type": "execute_result"
    },
    {
     "data": {
      "image/png": "[encoded data removed]",
      "text/plain": [
       "<matplotlib.figure.Figure at 0x7fd929819ad0>"
      ]
     },
     "metadata": {},
     "output_type": "display_data"
    }
   ],
   "source": [
    "#plot, with and without val acc\n",
    "f, ax = plt.subplots(figsize=(10,8))\n",
    "num_trials = 500\n",
    "ax = plot_optimisation(ax, num_trials, loss_hist_array, best_hist_array, alpha=1)\n",
    "ax.legend(['Best-so-far', 'New best'], loc='center right')"
   ]
  },
  {
   "cell_type": "markdown",
   "metadata": {},
   "source": [
    "## Analysis with validation"
   ]
  },
  {
   "cell_type": "code",
   "execution_count": 13,
   "metadata": {
    "collapsed": false
   },
   "outputs": [
    {
     "name": "stderr",
     "output_type": "stream",
     "text": [
      "Using gpu device 0: GeForce GTX TITAN X (CNMeM is disabled, cuDNN not available)\n"
     ]
    }
   ],
   "source": [
    "#train the best model on the whole set\n",
    "from sklearn.linear_model import Ridge\n",
    "from sklearn.svm import SVR\n",
    "from sklearn.metrics.pairwise import linear_kernel\n",
    "from sklearn.externals import joblib\n",
    "from multichannel import MultiChannelModel, multichannel_KFoldCV#, theano_rbf as rbf_kernel, theano_chi2 as chi2_kernel\n",
    "import numpy as np\n",
    "import csv, os, time\n",
    "\n",
    "#load the dataset\n",
    "dataset_root = '/home/luke/projects/THE_dataset' #directory where features/labels kept\n",
    "train_path = os.path.join(dataset_root, 'train_set_wc3d.pkl')\n",
    "test_path = os.path.join(dataset_root, 'test_set_wc3d.pkl')\n",
    "X_train, y_train = joblib.load(train_path)\n",
    "X_test, y_test = joblib.load(test_path)"
   ]
  },
  {
   "cell_type": "code",
   "execution_count": 14,
   "metadata": {
    "collapsed": true
   },
   "outputs": [],
   "source": [
    "#from sklearn.metrics.pairwise import chi2_kernel, rbf_kernel #using CPU as GPU doing experiments!\n",
    "from multichannel import theano_rbf as rbf_kernel, theano_chi2 as chi2_kernel\n",
    "def create_kpt(num_channels, gammas):\n",
    "    kernel_param_list = []\n",
    "    for channel in xrange(num_channels):\n",
    "        if channel < 4:\n",
    "            kdict = {'kernel_func': chi2_kernel, 'param_dict': {'gamma': gammas[channel]}}\n",
    "        elif channel == 5:\n",
    "            kdict = {'kernel_func': rbf_kernel, 'param_dict': {'gamma': gammas[channel]}}\n",
    "        kernel_param_list.append(kdict)\n",
    "    kernel_param_tuple = tuple(kernel_param_list)\n",
    "    return kernel_param_tuple"
   ]
  },
  {
   "cell_type": "code",
   "execution_count": 15,
   "metadata": {
    "collapsed": false
   },
   "outputs": [],
   "source": [
    "def extract_config(trials, tid, return_code=0):\n",
    "    if tid == 'best':\n",
    "        best_config = dict(trials.best_trial['misc']['vals'])\n",
    "    else:\n",
    "        best_config = dict(trials.trials[tid]['misc']['vals'])\n",
    "        \n",
    "    if return_code == 0:\n",
    "        alpha = best_config['svr_C'][0]\n",
    "        kpt = {'kernel_func': linear_kernel, 'param_dict':{}}\n",
    "        cw = None\n",
    "        return alpha, kpt, None\n",
    "    elif return_code == 1:\n",
    "        gammas = [best_config['traj_gamma'][0], best_config['hog_gamma'][0], best_config['hof_gamma'][0], \n",
    "                  best_config['mbhx_gamma'][0], best_config['mbhy_gamma'][0], best_config['c3d_gamma'][0]]\n",
    "        kpt = create_kpt(6, gammas)\n",
    "        alpha = best_config['svr_C'][0]\n",
    "        return alpha, kpt, None\n",
    "    elif return_code == 2:\n",
    "        gammas = [best_config['traj_gamma'][0], best_config['hog_gamma'][0], best_config['hof_gamma'][0], \n",
    "                  best_config['mbhx_gamma'][0], best_config['mbhy_gamma'][0], best_config['c3d_gamma'][0]]\n",
    "        kpt = create_kpt(6, gammas)\n",
    "        cw = [best_config['traj_cw'][0], best_config['hog_cw'][0], best_config['hof_cw'][0], \n",
    "              best_config['mbhx_cw'][0], best_config['mbhy_cw'][0], best_config['c3d_cw'][0]]\n",
    "        alpha = best_config['ridge_alpha'][0]\n",
    "        return alpha, kpt, cw\n",
    "    elif return_code == 3:\n",
    "        gammas = [0.06386, 0.117941, 0.060457, 0.180092, 3405.482, 0.79326]\n",
    "        cw = [best_config['traj_cw'][0], best_config['hog_cw'][0], best_config['hof_cw'][0], \n",
    "              best_config['mbhx_cw'][0], best_config['mbhy_cw'][0], best_config['c3d_cw'][0]]\n",
    "        kpt = create_kpt(6, gammas)\n",
    "        alpha = best_config['ridge_alpha'][0]\n",
    "        return alpha, kpt, cw\n",
    "    else:\n",
    "        ValueError('incorrect return code supplied')"
   ]
  },
  {
   "cell_type": "code",
   "execution_count": 16,
   "metadata": {
    "collapsed": false
   },
   "outputs": [
    {
     "name": "stdout",
     "output_type": "stream",
     "text": [
      "Final corrcoef = 0.790921252164. Training time = 12.7372319698. Testing time = 6.87747001648\n"
     ]
    }
   ],
   "source": [
    "t0 = time.time()\n",
    "alpha, kpt, cw = extract_config(trials, tid='best', return_code=1)\n",
    "model = SVR(kernel='precomputed', C=alpha)\n",
    "#model = Ridge(alpha=alpha)\n",
    "mcm = MultiChannelModel(num_channels=6, model=model, kernel_param_tuple=kpt, channel_weights=cw)\n",
    "mcm.fit(X_train, y_train)\n",
    "t1 = time.time()-t0\n",
    "score = mcm.score(X_test, y_test)\n",
    "t2 = time.time()-t0-t1\n",
    "print 'Final corrcoef = {0}. Training time = {1}. Testing time = {2}'.format(np.sqrt(score), t1, t2)"
   ]
  },
  {
   "cell_type": "code",
   "execution_count": 17,
   "metadata": {
    "collapsed": false
   },
   "outputs": [
    {
     "name": "stdout",
     "output_type": "stream",
     "text": [
      "0.625556427125\n"
     ]
    }
   ],
   "source": [
    "print score"
   ]
  },
  {
   "cell_type": "code",
   "execution_count": 18,
   "metadata": {
    "collapsed": false
   },
   "outputs": [
    {
     "data": {
      "text/plain": [
       "<matplotlib.legend.Legend at 0x7fd8ef059110>"
      ]
     },
     "execution_count": 18,
     "metadata": {},
     "output_type": "execute_result"
    },
    {
     "data": {
      "image/png": "[encoded data removed]",
      "text/plain": [
       "<matplotlib.figure.Figure at 0x7fd90cbccd10>"
      ]
     },
     "metadata": {},
     "output_type": "display_data"
    }
   ],
   "source": [
    "#plot, with and without val acc\n",
    "f, ax = plt.subplots(figsize=(10,8))\n",
    "ax = plot_optimisation(ax, num_trials, loss_hist_array, best_hist_array)\n",
    "ax.legend(['Best-so-far', 'New best'], loc='center right')"
   ]
  },
  {
   "cell_type": "code",
   "execution_count": 31,
   "metadata": {
    "collapsed": false
   },
   "outputs": [
    {
     "name": "stdout",
     "output_type": "stream",
     "text": [
      "2.5313692512 0.514460755563\n",
      "2.10351299382 0.630115034576\n",
      "0.715045658196 0.624798771534\n",
      "1.44226494163 0.638162537133\n",
      "1.37026893514 0.628789257449\n",
      "1.68169856405 0.626091461354\n",
      "2.40693126997 0.625622263878\n",
      "6.08241983236 0.626524292054\n",
      "6.33840855121 0.624721788564\n",
      "6.99712295691 0.623755675792\n",
      "5.58945492992 0.626880915824\n",
      "5.57424920639 0.624606567289\n",
      "5.61205309222 0.625556427125\n"
     ]
    }
   ],
   "source": [
    "#calc validation scores\n",
    "val_hist=[]\n",
    "for t in best_hist_array:\n",
    "    tid = int(t[1])\n",
    "    alpha, kpt, cw = extract_config(trials, tid=tid, return_code=1)\n",
    "    #model = Ridge(alpha=alpha)\n",
    "    model = SVR(kernel='precomputed', C=alpha)\n",
    "    mcm = MultiChannelModel(num_channels=6, model=model, kernel_param_tuple=kpt, channel_weights=cw)\n",
    "    mcm.fit(X_train, y_train)\n",
    "    score = mcm.score(X_test, y_test)\n",
    "    val_hist.append([score, tid])\n",
    "    print alpha, score\n",
    "val_hist_array = np.array(val_hist)"
   ]
  },
  {
   "cell_type": "code",
   "execution_count": 32,
   "metadata": {
    "collapsed": false
   },
   "outputs": [
    {
     "data": {
      "text/plain": [
       "<matplotlib.legend.Legend at 0x7fd8eebb8710>"
      ]
     },
     "execution_count": 32,
     "metadata": {},
     "output_type": "execute_result"
    },
    {
     "data": {
      "image/png": "[encoded data removed]",
      "text/plain": [
       "<matplotlib.figure.Figure at 0x7fd8f0fc8950>"
      ]
     },
     "metadata": {},
     "output_type": "display_data"
    }
   ],
   "source": [
    "f, ax = plt.subplots(figsize=(10,8))\n",
    "ax = plot_optimisation(ax, num_trials, loss_hist_array, best_hist_array, alpha=.5)\n",
    "ax.plot(val_hist_array[:,1], val_hist_array[:,0], 'ks')\n",
    "#ax.set_ylim([.45, .6])\n",
    "ax.legend(['Best-so-far', 'New best', 'Validation'], loc='lower right')"
   ]
  },
  {
   "cell_type": "code",
   "execution_count": 33,
   "metadata": {
    "collapsed": false
   },
   "outputs": [
    {
     "data": {
      "text/plain": [
       "[0.71725919691765583,\n",
       " 0.7937978549835476,\n",
       " 0.79044213673997354,\n",
       " 0.79885076023835722,\n",
       " 0.79296233040953912,\n",
       " 0.79125941470177652,\n",
       " 0.79096287136513355,\n",
       " 0.79153287490393764,\n",
       " 0.79039343909495918,\n",
       " 0.78978204321937329,\n",
       " 0.79175811699271958,\n",
       " 0.79032054717598299,\n",
       " 0.79092125216419729]"
      ]
     },
     "execution_count": 33,
     "metadata": {},
     "output_type": "execute_result"
    }
   ],
   "source": [
    "[np.sqrt(x) for x in val_hist_array[:,0]]"
   ]
  },
  {
   "cell_type": "code",
   "execution_count": 34,
   "metadata": {
    "collapsed": false
   },
   "outputs": [
    {
     "data": {
      "text/plain": [
       "['results/svr_nonlin/search_histories.pkl',\n",
       " 'results/svr_nonlin/search_histories.pkl_01.npy',\n",
       " 'results/svr_nonlin/search_histories.pkl_02.npy',\n",
       " 'results/svr_nonlin/search_histories.pkl_03.npy']"
      ]
     },
     "execution_count": 34,
     "metadata": {},
     "output_type": "execute_result"
    }
   ],
   "source": [
    "#save the loss/best/val hist arrays\n",
    "results_hist = {'loss': loss_hist_array, 'best': best_hist_array, 'val_of_best': val_hist_array}\n",
    "save_root = 'results/' + exp_type\n",
    "if not os.path.isdir(save_root):\n",
    "    os.makedirs(save_root)\n",
    "save_name = 'search_histories.pkl'\n",
    "save_path = os.path.join(save_root, save_name)\n",
    "joblib.dump(results_hist, save_path)"
   ]
  },
  {
   "cell_type": "code",
   "execution_count": 30,
   "metadata": {
    "collapsed": false
   },
   "outputs": [
    {
     "data": {
      "text/plain": [
       "{u'_id': ObjectId('572b3aab510eac6b0a5e631b'),\n",
       " u'book_time': datetime.datetime(2016, 5, 5, 12, 21, 48, 443000),\n",
       " u'exp_key': None,\n",
       " u'misc': SON([(u'tid', 268), (u'idxs', SON([(u'hof_gamma', [268]), (u'svr_C', [268]), (u'mbhy_gamma', [268]), (u'hog_gamma', [268]), (u'traj_gamma', [268]), (u'c3d_gamma', [268]), (u'mbhx_gamma', [268])])), (u'cmd', [u'domain_attachment', u'FMinIter_Domain']), (u'vals', SON([(u'hof_gamma', [0.07271759288516493]), (u'svr_C', [5.612053092224692]), (u'mbhy_gamma', [18.297798578093797]), (u'hog_gamma', [0.10584102051488271]), (u'traj_gamma', [0.03973091601387516]), (u'c3d_gamma', [0.7448057839668178]), (u'mbhx_gamma', [0.14148162765679317])])), (u'workdir', None)]),\n",
       " u'owner': [u'nilli15:5524'],\n",
       " u'refresh_time': datetime.datetime(2016, 5, 5, 12, 22, 37, 202000),\n",
       " u'result': SON([(u'status', u'ok'), (u'loss', 0.39232548677316226), (u'eval_time', 1462450957.201771)]),\n",
       " u'spec': None,\n",
       " u'state': 2,\n",
       " u'tid': 268,\n",
       " u'version': 3}"
      ]
     },
     "execution_count": 30,
     "metadata": {},
     "output_type": "execute_result"
    }
   ],
   "source": [
    "dict(trials.trials[262])"
   ]
  },
  {
   "cell_type": "code",
   "execution_count": 24,
   "metadata": {
    "collapsed": false
   },
   "outputs": [
    {
     "data": {
      "text/plain": [
       "array([[   0.55167367,    0.        ],\n",
       "       [   0.42158446,    1.        ],\n",
       "       [   0.40467205,    5.        ],\n",
       "       [   0.39943301,   33.        ],\n",
       "       [   0.3986408 ,   76.        ],\n",
       "       [   0.39792349,   81.        ],\n",
       "       [   0.39438685,   90.        ],\n",
       "       [   0.3927082 ,  101.        ],\n",
       "       [   0.39267542,  105.        ],\n",
       "       [   0.39265389,  245.        ],\n",
       "       [   0.39258842,  255.        ],\n",
       "       [   0.39241842,  259.        ],\n",
       "       [   0.39232549,  262.        ]])"
      ]
     },
     "execution_count": 24,
     "metadata": {},
     "output_type": "execute_result"
    }
   ],
   "source": [
    "best_hist_array"
   ]
  },
  {
   "cell_type": "code",
   "execution_count": null,
   "metadata": {
    "collapsed": true
   },
   "outputs": [],
   "source": []
  }
 ],
 "metadata": {
  "kernelspec": {
   "display_name": "Python 2",
   "language": "python",
   "name": "python2"
  },
  "language_info": {
   "codemirror_mode": {
    "name": "ipython",
    "version": 2
   },
   "file_extension": ".py",
   "mimetype": "text/x-python",
   "name": "python",
   "nbconvert_exporter": "python",
   "pygments_lexer": "ipython2",
   "version": "2.7.11"
  }
 },
 "nbformat": 4,
 "nbformat_minor": 0
}
