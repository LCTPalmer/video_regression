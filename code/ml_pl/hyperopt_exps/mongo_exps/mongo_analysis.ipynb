{
 "cells": [
  {
   "cell_type": "code",
   "execution_count": 149,
   "metadata": {
    "collapsed": true
   },
   "outputs": [],
   "source": [
    "%matplotlib inline\n",
    "from hyperopt.mongoexp import MongoTrials\n",
    "import matplotlib.pyplot as plt\n",
    "import numpy as np"
   ]
  },
  {
   "cell_type": "code",
   "execution_count": 150,
   "metadata": {
    "collapsed": false
   },
   "outputs": [
    {
     "name": "stdout",
     "output_type": "stream",
     "text": [
      "ftp://localhost:1234/ridge_nonlin_cweights/jobs\n",
      "ParseResult(scheme='ftp', netloc='localhost:1234', path='/ridge_nonlin_cweights/jobs', params='', query='', fragment='')\n"
     ]
    }
   ],
   "source": [
    "trials = MongoTrials('mongo://localhost:1234/ridge_nonlin_cweights/jobs')\n",
    "#trials = MongoTrials('mongo://localhost:1234/ridge_lin/jobs')"
   ]
  },
  {
   "cell_type": "code",
   "execution_count": 151,
   "metadata": {
    "collapsed": false
   },
   "outputs": [
    {
     "data": {
      "text/plain": [
       "354"
      ]
     },
     "execution_count": 151,
     "metadata": {},
     "output_type": "execute_result"
    }
   ],
   "source": [
    "len(trials.results)"
   ]
  },
  {
   "cell_type": "code",
   "execution_count": 152,
   "metadata": {
    "collapsed": false
   },
   "outputs": [
    {
     "name": "stdout",
     "output_type": "stream",
     "text": [
      "18106.9803982 51.1496621417\n"
     ]
    }
   ],
   "source": [
    "total_time = trials.results[-3]['eval_time'] - trials.results[0]['eval_time']\n",
    "mean_time = total_time/float(len(trials.results))\n",
    "print total_time, mean_time"
   ]
  },
  {
   "cell_type": "code",
   "execution_count": 153,
   "metadata": {
    "collapsed": false
   },
   "outputs": [
    {
     "data": {
      "text/plain": [
       "({u'c3d_cw': [0.3652468393714107],\n",
       "  u'c3d_gamma': [0.33188996598623727],\n",
       "  u'hof_cw': [0.041532194827977584],\n",
       "  u'hof_gamma': [0.29602664583972105],\n",
       "  u'hog_cw': [0.7813489365414354],\n",
       "  u'hog_gamma': [0.02294656297321277],\n",
       "  u'mbhx_cw': [0.6224830579873188],\n",
       "  u'mbhx_gamma': [0.10222616347317175],\n",
       "  u'mbhy_cw': [0.0024407110869663455],\n",
       "  u'mbhy_gamma': [21.531978717246297],\n",
       "  u'ridge_alpha': [0.01659816709280021],\n",
       "  u'traj_cw': [0.2513497207149264],\n",
       "  u'traj_gamma': [0.04932247099907812]},\n",
       " 0.3930111470033295,\n",
       " 209)"
      ]
     },
     "execution_count": 153,
     "metadata": {},
     "output_type": "execute_result"
    }
   ],
   "source": [
    "dict(trials.best_trial['misc']['vals']), trials.best_trial['result']['loss'], trials.best_trial['tid']"
   ]
  },
  {
   "cell_type": "code",
   "execution_count": 154,
   "metadata": {
    "collapsed": false
   },
   "outputs": [
    {
     "data": {
      "text/plain": [
       "[<matplotlib.lines.Line2D at 0x7fa704c46fd0>]"
      ]
     },
     "execution_count": 154,
     "metadata": {},
     "output_type": "execute_result"
    },
    {
     "data": {
      "image/png": "[encoded data removed]",
      "text/plain": [
       "<matplotlib.figure.Figure at 0x7fa70190f690>"
      ]
     },
     "metadata": {},
     "output_type": "display_data"
    }
   ],
   "source": [
    "#plot losses through trials\n",
    "res = [r['result']['loss'] for r in trials.trials[:-3]]\n",
    "plt.plot(res)"
   ]
  },
  {
   "cell_type": "code",
   "execution_count": null,
   "metadata": {
    "collapsed": true
   },
   "outputs": [],
   "source": []
  }
 ],
 "metadata": {
  "kernelspec": {
   "display_name": "Python 2",
   "language": "python",
   "name": "python2"
  },
  "language_info": {
   "codemirror_mode": {
    "name": "ipython",
    "version": 2
   },
   "file_extension": ".py",
   "mimetype": "text/x-python",
   "name": "python",
   "nbconvert_exporter": "python",
   "pygments_lexer": "ipython2",
   "version": "2.7.11"
  }
 },
 "nbformat": 4,
 "nbformat_minor": 0
}
