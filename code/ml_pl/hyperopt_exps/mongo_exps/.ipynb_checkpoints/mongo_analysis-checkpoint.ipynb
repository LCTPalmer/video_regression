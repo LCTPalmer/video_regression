{
 "cells": [
  {
   "cell_type": "code",
   "execution_count": 130,
   "metadata": {
    "collapsed": true
   },
   "outputs": [],
   "source": [
    "%matplotlib inline\n",
    "from hyperopt.mongoexp import MongoTrials\n",
    "import matplotlib.pyplot as plt\n",
    "import numpy as np"
   ]
  },
  {
   "cell_type": "code",
   "execution_count": 131,
   "metadata": {
    "collapsed": false
   },
   "outputs": [
    {
     "name": "stdout",
     "output_type": "stream",
     "text": [
      "ftp://localhost:1234/ridge_nonlin_cweights/jobs\n",
      "ParseResult(scheme='ftp', netloc='localhost:1234', path='/ridge_nonlin_cweights/jobs', params='', query='', fragment='')\n"
     ]
    }
   ],
   "source": [
    "trials = MongoTrials('mongo://localhost:1234/ridge_nonlin_cweights/jobs')\n",
    "#trials = MongoTrials('mongo://localhost:1234/ridge_lin/jobs')"
   ]
  },
  {
   "cell_type": "code",
   "execution_count": 132,
   "metadata": {
    "collapsed": false
   },
   "outputs": [
    {
     "data": {
      "text/plain": [
       "120"
      ]
     },
     "execution_count": 132,
     "metadata": {},
     "output_type": "execute_result"
    }
   ],
   "source": [
    "len(trials.results)"
   ]
  },
  {
   "cell_type": "code",
   "execution_count": 133,
   "metadata": {
    "collapsed": false
   },
   "outputs": [
    {
     "name": "stdout",
     "output_type": "stream",
     "text": [
      "5707.33720112 47.5611433427\n"
     ]
    }
   ],
   "source": [
    "total_time = trials.results[-3]['eval_time'] - trials.results[0]['eval_time']\n",
    "mean_time = total_time/float(len(trials.results))\n",
    "print total_time, mean_time"
   ]
  },
  {
   "cell_type": "code",
   "execution_count": 134,
   "metadata": {
    "collapsed": false
   },
   "outputs": [
    {
     "data": {
      "text/plain": [
       "({u'c3d_cw': [0.3312480623357925],\n",
       "  u'c3d_gamma': [0.7499541727349117],\n",
       "  u'hof_cw': [0.15596723438329757],\n",
       "  u'hof_gamma': [0.7107538329923138],\n",
       "  u'hog_cw': [0.16077359238379715],\n",
       "  u'hog_gamma': [0.42501520610827975],\n",
       "  u'mbhx_cw': [0.7792716788946548],\n",
       "  u'mbhx_gamma': [0.15327938710207045],\n",
       "  u'mbhy_cw': [0.5359528285286095],\n",
       "  u'mbhy_gamma': [53.57503502412757],\n",
       "  u'ridge_alpha': [0.21535763697601143],\n",
       "  u'traj_cw': [0.3035108423490183],\n",
       "  u'traj_gamma': [0.0772827080680087]},\n",
       " 0.3949770444690318,\n",
       " 93)"
      ]
     },
     "execution_count": 134,
     "metadata": {},
     "output_type": "execute_result"
    }
   ],
   "source": [
    "dict(trials.best_trial['misc']['vals']), trials.best_trial['result']['loss'], trials.best_trial['tid']"
   ]
  },
  {
   "cell_type": "code",
   "execution_count": 135,
   "metadata": {
    "collapsed": false
   },
   "outputs": [
    {
     "data": {
      "text/plain": [
       "[<matplotlib.lines.Line2D at 0x7fa701725710>]"
      ]
     },
     "execution_count": 135,
     "metadata": {},
     "output_type": "execute_result"
    },
    {
     "data": {
      "image/png": "[encoded data removed]",
      "text/plain": [
       "<matplotlib.figure.Figure at 0x7fa702783750>"
      ]
     },
     "metadata": {},
     "output_type": "display_data"
    }
   ],
   "source": [
    "#plot losses through trials\n",
    "res = [r['result']['loss'] for r in trials.trials[:-3]]\n",
    "plt.plot(res)"
   ]
  },
  {
   "cell_type": "code",
   "execution_count": null,
   "metadata": {
    "collapsed": true
   },
   "outputs": [],
   "source": []
  }
 ],
 "metadata": {
  "kernelspec": {
   "display_name": "Python 2",
   "language": "python",
   "name": "python2"
  },
  "language_info": {
   "codemirror_mode": {
    "name": "ipython",
    "version": 2
   },
   "file_extension": ".py",
   "mimetype": "text/x-python",
   "name": "python",
   "nbconvert_exporter": "python",
   "pygments_lexer": "ipython2",
   "version": "2.7.11"
  }
 },
 "nbformat": 4,
 "nbformat_minor": 0
}
