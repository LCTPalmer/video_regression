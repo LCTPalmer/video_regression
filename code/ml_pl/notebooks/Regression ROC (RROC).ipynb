{
 "cells": [
  {
   "cell_type": "code",
   "execution_count": 53,
   "metadata": {
    "collapsed": true
   },
   "outputs": [],
   "source": [
    "%matplotlib inline\n",
    "import numpy as np\n",
    "import matplotlib.pyplot as plt"
   ]
  },
  {
   "cell_type": "code",
   "execution_count": 1,
   "metadata": {
    "collapsed": true
   },
   "outputs": [],
   "source": [
    "#load y_test, y_pred\n",
    "with open('SVR_results.csv', 'rb') as f:\n",
    "    import csv\n",
    "    cr = csv.reader(f)\n",
    "    header = cr.next()\n",
    "    y_true, y_pred = [], []\n",
    "    for row in cr:\n",
    "        y_true.append(float(row[1]))\n",
    "        y_pred.append(float(row[2]))"
   ]
  },
  {
   "cell_type": "code",
   "execution_count": 4,
   "metadata": {
    "collapsed": true
   },
   "outputs": [],
   "source": [
    "#put with original inds\n",
    "y_true_winds = [(ii, y) for ii,y in enumerate(y_true)]\n",
    "y_pred_winds = [(ii, y) for ii,y in enumerate(y_pred)]"
   ]
  },
  {
   "cell_type": "code",
   "execution_count": 11,
   "metadata": {
    "collapsed": false
   },
   "outputs": [],
   "source": [
    "#sort\n",
    "y_pred_winds = sorted(y_pred_winds, key = lambda x: -x[1])\n",
    "y_true_winds = sorted(y_true_winds, key = lambda x: -x[1])"
   ]
  },
  {
   "cell_type": "code",
   "execution_count": 79,
   "metadata": {
    "collapsed": false,
    "scrolled": true
   },
   "outputs": [
    {
     "name": "stdout",
     "output_type": "stream",
     "text": [
      "60\n",
      "30\n",
      "20\n",
      "15\n",
      "12\n",
      "10\n",
      "8\n",
      "7\n",
      "6\n"
     ]
    }
   ],
   "source": [
    "#threshold by percentage\n",
    "total = len(y_true_winds)\n",
    "pct_list = [10, 20, 30, 40, 50, 60, 70, 80, 90]\n",
    "acc_list = []\n",
    "for pct in pct_list:\n",
    "    num_in_pct = int(total/pct)\n",
    "    print num_in_pct\n",
    "    y_true_top = y_true_winds[:num_in_pct]\n",
    "    y_pred_top = y_pred_winds[:num_in_pct]\n",
    "\n",
    "    #get list of indices in top %\n",
    "    top_true_inds = [x[0] for x in y_true_top]\n",
    "    top_pred_inds = [x[0] for x in y_pred_top]\n",
    "\n",
    "    #get number of TPs\n",
    "    combined = top_true_inds + top_pred_inds\n",
    "    TPs = list(set([x for x in combined if combined.count(x)>1]))\n",
    "    acc = len(TPs)/float(num_in_pct)\n",
    "    acc_list.append(acc)"
   ]
  },
  {
   "cell_type": "code",
   "execution_count": 80,
   "metadata": {
    "collapsed": false
   },
   "outputs": [
    {
     "data": {
      "text/plain": [
       "[<matplotlib.lines.Line2D at 0x3b24690>]"
      ]
     },
     "execution_count": 80,
     "metadata": {},
     "output_type": "execute_result"
    },
    {
     "data": {
      "image/png": "[encoded data removed]",
      "text/plain": [
       "<matplotlib.figure.Figure at 0x3869d50>"
      ]
     },
     "metadata": {},
     "output_type": "display_data"
    }
   ],
   "source": [
    "plt.plot(pct_list, acc_list)"
   ]
  },
  {
   "cell_type": "code",
   "execution_count": 73,
   "metadata": {
    "collapsed": false
   },
   "outputs": [
    {
     "data": {
      "text/plain": [
       "7"
      ]
     },
     "execution_count": 73,
     "metadata": {},
     "output_type": "execute_result"
    }
   ],
   "source": [
    "int(np.ceil(total/float(pct)))"
   ]
  },
  {
   "cell_type": "code",
   "execution_count": 57,
   "metadata": {
    "collapsed": false
   },
   "outputs": [
    {
     "data": {
      "text/plain": [
       "[(235, 44.15015279428845),\n",
       " (336, 40.06020953527974),\n",
       " (552, 39.25740524505319),\n",
       " (572, 38.673035840943356),\n",
       " (183, 37.18220842079901),\n",
       " (215, 37.13742681279078)]"
      ]
     },
     "execution_count": 57,
     "metadata": {},
     "output_type": "execute_result"
    }
   ],
   "source": [
    "y_true_top"
   ]
  },
  {
   "cell_type": "code",
   "execution_count": 58,
   "metadata": {
    "collapsed": false
   },
   "outputs": [
    {
     "data": {
      "text/plain": [
       "[(588, 35.02690239879584),\n",
       " (572, 34.94890732412017),\n",
       " (235, 34.37281221272536),\n",
       " (349, 34.12397073041926),\n",
       " (460, 34.00821955530736),\n",
       " (142, 33.813749177618874)]"
      ]
     },
     "execution_count": 58,
     "metadata": {},
     "output_type": "execute_result"
    }
   ],
   "source": [
    "y_pred_top"
   ]
  },
  {
   "cell_type": "code",
   "execution_count": null,
   "metadata": {
    "collapsed": true
   },
   "outputs": [],
   "source": []
  }
 ],
 "metadata": {
  "kernelspec": {
   "display_name": "Python 2",
   "language": "python",
   "name": "python2"
  },
  "language_info": {
   "codemirror_mode": {
    "name": "ipython",
    "version": 2
   },
   "file_extension": ".py",
   "mimetype": "text/x-python",
   "name": "python",
   "nbconvert_exporter": "python",
   "pygments_lexer": "ipython2",
   "version": "2.7.3"
  }
 },
 "nbformat": 4,
 "nbformat_minor": 0
}
