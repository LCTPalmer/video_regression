{
 "cells": [
  {
   "cell_type": "code",
   "execution_count": 14,
   "metadata": {
    "collapsed": true
   },
   "outputs": [],
   "source": [
    "import numpy as np"
   ]
  },
  {
   "cell_type": "code",
   "execution_count": 1,
   "metadata": {
    "collapsed": true
   },
   "outputs": [],
   "source": [
    "#load y_test, y_pred\n",
    "with open('SVR_results.csv', 'rb') as f:\n",
    "    import csv\n",
    "    cr = csv.reader(f)\n",
    "    header = cr.next()\n",
    "    y_true, y_pred = [], []\n",
    "    for row in cr:\n",
    "        y_true.append(float(row[1]))\n",
    "        y_pred.append(float(row[2]))"
   ]
  },
  {
   "cell_type": "code",
   "execution_count": 4,
   "metadata": {
    "collapsed": true
   },
   "outputs": [],
   "source": [
    "#put with original inds\n",
    "y_true_winds = [(ii, y) for ii,y in enumerate(y_true)]\n",
    "y_pred_winds = [(ii, y) for ii,y in enumerate(y_pred)]"
   ]
  },
  {
   "cell_type": "code",
   "execution_count": 11,
   "metadata": {
    "collapsed": false
   },
   "outputs": [],
   "source": [
    "#sort\n",
    "y_pred_winds = sorted(y_pred_winds, key = lambda x: -x[1])\n",
    "y_true_winds = sorted(y_true_winds, key = lambda x: -x[1])"
   ]
  },
  {
   "cell_type": "code",
   "execution_count": 15,
   "metadata": {
    "collapsed": true
   },
   "outputs": [],
   "source": [
    "#threshold by percentage\n",
    "total = len(y_true_winds)\n",
    "pct = 10\n",
    "num_in_pct = np.round(total/pct)\n",
    "y_true_top = y_true_winds[:num_in_pct]\n",
    "y_pred_top = y_pred_winds[:num_in_pct]"
   ]
  },
  {
   "cell_type": "code",
   "execution_count": 20,
   "metadata": {
    "collapsed": false
   },
   "outputs": [],
   "source": [
    "#get list of indices in top %\n",
    "top_true_inds = [x[0] for x in y_true_top]\n",
    "top_pred_inds = [x[0] for x in y_pred_top]"
   ]
  },
  {
   "cell_type": "code",
   "execution_count": 29,
   "metadata": {
    "collapsed": false
   },
   "outputs": [
    {
     "data": {
      "text/plain": [
       "33"
      ]
     },
     "execution_count": 29,
     "metadata": {},
     "output_type": "execute_result"
    }
   ],
   "source": [
    "len(set(top_true_inds + top_pred_inds)) - num_in_pct"
   ]
  },
  {
   "cell_type": "code",
   "execution_count": 32,
   "metadata": {
    "collapsed": false
   },
   "outputs": [],
   "source": [
    "combined = top_true_inds + top_pred_inds\n",
    "TPs = list(set([x for x in combined if combined.count(x)>1]))"
   ]
  },
  {
   "cell_type": "code",
   "execution_count": 33,
   "metadata": {
    "collapsed": false
   },
   "outputs": [
    {
     "data": {
      "text/plain": [
       "[491,\n",
       " 137,\n",
       " 142,\n",
       " 16,\n",
       " 278,\n",
       " 552,\n",
       " 44,\n",
       " 561,\n",
       " 436,\n",
       " 183,\n",
       " 444,\n",
       " 453,\n",
       " 327,\n",
       " 460,\n",
       " 588,\n",
       " 461,\n",
       " 336,\n",
       " 343,\n",
       " 216,\n",
       " 347,\n",
       " 478,\n",
       " 144,\n",
       " 228,\n",
       " 572,\n",
       " 235,\n",
       " 240,\n",
       " 373]"
      ]
     },
     "execution_count": 33,
     "metadata": {},
     "output_type": "execute_result"
    }
   ],
   "source": [
    "TPs"
   ]
  },
  {
   "cell_type": "code",
   "execution_count": null,
   "metadata": {
    "collapsed": true
   },
   "outputs": [],
   "source": []
  }
 ],
 "metadata": {
  "kernelspec": {
   "display_name": "Python 2",
   "language": "python",
   "name": "python2"
  },
  "language_info": {
   "codemirror_mode": {
    "name": "ipython",
    "version": 2
   },
   "file_extension": ".py",
   "mimetype": "text/x-python",
   "name": "python",
   "nbconvert_exporter": "python",
   "pygments_lexer": "ipython2",
   "version": "2.7.3"
  }
 },
 "nbformat": 4,
 "nbformat_minor": 0
}
