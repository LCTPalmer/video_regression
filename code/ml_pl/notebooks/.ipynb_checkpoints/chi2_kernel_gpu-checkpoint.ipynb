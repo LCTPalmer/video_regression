{
 "cells": [
  {
   "cell_type": "markdown",
   "metadata": {},
   "source": [
    "# Chi-Squared Kernel GPU Computation with Theano\n",
    "Theano implementation of the chi-squared kernel. Used for support vector machines with bag-of-features histograms as input vectors."
   ]
  },
  {
   "cell_type": "code",
   "execution_count": 555,
   "metadata": {
    "collapsed": false
   },
   "outputs": [],
   "source": [
    "#imports\n",
    "import numpy as np\n",
    "#from sklearn.metrics.pairwise import additive_chi2_kernel as chi2_kernel\n",
    "from sklearn.metrics.pairwise import chi2_kernel\n",
    "\n",
    "import theano\n",
    "import theano.tensor as T\n",
    "\n",
    "from time import time"
   ]
  },
  {
   "cell_type": "code",
   "execution_count": 549,
   "metadata": {
    "collapsed": false
   },
   "outputs": [],
   "source": [
    "#numpy attempt - for understanding the process\n",
    "def numpy_chi2(X,Y):\n",
    "    #initialise matrices\n",
    "    vec_x = np.empty((X.shape[0], 1))\n",
    "    x_min_y = np.empty((X.shape[0], Y.shape[0]))\n",
    "    x_plus_y = np.empty_like(x_min_y)\n",
    "    K = np.empty_like(x_min_y)\n",
    "\n",
    "    for v_ind_x in range(X.shape[0]):\n",
    "\n",
    "        #select the vector\n",
    "        vec_x = X[v_ind_x,:]\n",
    "        vec_x = vec_x[:,None]\n",
    "\n",
    "        #tile \n",
    "        vec_tiled = np.tile(vec_x, [1, Y.shape[0]])\n",
    "\n",
    "        #x minus y - squared\n",
    "        x_min_y_mat = vec_tiled - Y.T\n",
    "        x_min_y_mat2 = x_min_y_mat**2\n",
    "\n",
    "        #x plus y\n",
    "        x_plus_y_mat = vec_tiled + Y.T\n",
    "\n",
    "        K[v_ind_x, :] = np.exp(-np.sum(np.divide(x_min_y_mat2, x_plus_y_mat), axis=0))\n",
    "        \n",
    "    return K"
   ]
  },
  {
   "cell_type": "code",
   "execution_count": 544,
   "metadata": {
    "collapsed": false
   },
   "outputs": [],
   "source": [
    "# GPU implementation of exponential chi-squared kernel - often used in \n",
    "# bag-of-features based kernel classification and regression:\n",
    "#\n",
    "#            K(X,Y) = exp( -Sum[ (Xi-Yi)^2 / (Xi+Yi) ])\n",
    "#\n",
    "# Tested against sklearn.metrics.pairwise.chi2_kernel(). For X = Y of \n",
    "# size(1500,4000) is ~4x faster using a GeForce 560 Ti than sklearn. \n",
    "#\n",
    "# ----------------------------------------------------------------------\n",
    "#\n",
    "# input: X - numpy array 2D\n",
    "#                 MxN array containing M observations of N features\n",
    "#\n",
    "#        Y - numpy array 2D\n",
    "#                 PxN array (note must have same number of columns as X)\n",
    "#\n",
    "# output: K - numpy array 2D\n",
    "#                 MxP array of pairwise chi-squared distances between\n",
    "#                 observations in X and Y\n",
    "\n",
    "import theano\n",
    "import theano.tensor as T\n",
    "import numpy\n",
    "\n",
    "def theano_chi2(X,Y):\n",
    "    \n",
    "    #ensure float32 type\n",
    "    X = X.astype('Float32')\n",
    "    Y = Y.astype('Float32')\n",
    "    \n",
    "    #check dimensions\n",
    "    assert X.shape[1] == Y.shape[1], 'X and Y must be of same dimension'\n",
    "    \n",
    "    #declare constant for tiling (within K_row_comp())\n",
    "    THEANO_REPS_CONST = Y.shape[0]\n",
    "\n",
    "    def K_row_comp(x_vec, y_mat):\n",
    "        #calculates a row of the chi-squared gram matrix\n",
    "\n",
    "        #add singleton dimension to vector for tiling\n",
    "        x_vec_2d = x_vec[:,None]\n",
    "\n",
    "        #tile the vector\n",
    "        x_vec_tiled = T.tile(x_vec_2d, [1, THEANO_REPS_CONST])\n",
    "\n",
    "        #subtract y and square\n",
    "        x_min_y = x_vec_tiled - y_mat.T\n",
    "        x_min_y2 = x_min_y ** 2\n",
    "\n",
    "        #x + y term\n",
    "        x_plus_y = x_vec_tiled + y_mat.T\n",
    "\n",
    "        #divide and sum\n",
    "        raw_row = T.sum( x_min_y2 / x_plus_y , axis=0)\n",
    "\n",
    "        #take exponential\n",
    "        K_row = T.exp(-raw_row)\n",
    "\n",
    "        return K_row\n",
    "\n",
    "    #define the symbolic vars\n",
    "    x = T.matrix('x')\n",
    "    y = T.matrix('y')\n",
    "\n",
    "    #scan over the rows of X\n",
    "    result, updates = theano.scan(K_row_comp, \n",
    "                                  outputs_info = None,\n",
    "                                  sequences = x,\n",
    "                                  non_sequences = y)\n",
    "\n",
    "    #construct the theano function\n",
    "    f = theano.function(inputs=[x, y], outputs=result)\n",
    "\n",
    "    #run the function\n",
    "    return f(X,Y)"
   ]
  },
  {
   "cell_type": "code",
   "execution_count": 551,
   "metadata": {
    "collapsed": false
   },
   "outputs": [
    {
     "name": "stdout",
     "output_type": "stream",
     "text": [
      "sklearn function took 43.7356390953 seconds, theano implementation took 12.8725619316 seconds\n"
     ]
    }
   ],
   "source": [
    "X = np.random.random((1500,4000))\n",
    "X = X.astype('Float32')\n",
    "its = 1\n",
    "\n",
    "t0 = time()\n",
    "for _ in range(its):\n",
    "    K_theano = theano_chi2(X,X)\n",
    "theano_time = time()-t0\n",
    "\n",
    "\n",
    "t0 = time()\n",
    "for _ in range(its):\n",
    "    K_sklearn = chi2_kernel(X,X)\n",
    "sklearn_time = time()-t0\n",
    "\n",
    "print 'sklearn function took {0} seconds, theano implementation took {1} seconds'.format(sklearn_time, theano_time)"
   ]
  },
  {
   "cell_type": "code",
   "execution_count": 547,
   "metadata": {
    "collapsed": false
   },
   "outputs": [
    {
     "data": {
      "text/plain": [
       "True"
      ]
     },
     "execution_count": 547,
     "metadata": {},
     "output_type": "execute_result"
    }
   ],
   "source": [
    "np.array_equal(K_theano, K_sklearn)"
   ]
  },
  {
   "cell_type": "code",
   "execution_count": null,
   "metadata": {
    "collapsed": true
   },
   "outputs": [],
   "source": []
  }
 ],
 "metadata": {
  "kernelspec": {
   "display_name": "Python 2",
   "language": "python",
   "name": "python2"
  },
  "language_info": {
   "codemirror_mode": {
    "name": "ipython",
    "version": 2
   },
   "file_extension": ".py",
   "mimetype": "text/x-python",
   "name": "python",
   "nbconvert_exporter": "python",
   "pygments_lexer": "ipython2",
   "version": "2.7.3"
  }
 },
 "nbformat": 4,
 "nbformat_minor": 0
}
