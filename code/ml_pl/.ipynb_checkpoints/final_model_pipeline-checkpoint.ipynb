{
 "cells": [
  {
   "cell_type": "code",
   "execution_count": null,
   "metadata": {
    "collapsed": false
   },
   "outputs": [],
   "source": [
    "import os, csv, time\n",
    "import numpy as np\n",
    "from sklearn.externals import joblib\n",
    "from sklearn.metrics import r2_score\n",
    "from multichannel_svr.multichannel_svr import MultiChannelSVR"
   ]
  },
  {
   "cell_type": "code",
   "execution_count": null,
   "metadata": {
    "collapsed": true
   },
   "outputs": [],
   "source": [
    "#paths to mappings/features\n",
    "dataset_root = '/home/lukep86/projects/THE_dataset' #directory where features/labels kept\n",
    "mapping_path = os.path.join(dataset_root, 'ratings_by_filename_it35.csv')\n",
    "train_path = os.path.join(dataset_root, 'train_set.pkl')\n",
    "test_path = os.path.join(dataset_root, 'test_set.pkl')"
   ]
  },
  {
   "cell_type": "code",
   "execution_count": null,
   "metadata": {
    "collapsed": false
   },
   "outputs": [],
   "source": [
    "#load the datasets\n",
    "train_set = joblib.load(train_path)\n",
    "test_set = joblib.load(test_path)"
   ]
  },
  {
   "cell_type": "code",
   "execution_count": null,
   "metadata": {
    "collapsed": true
   },
   "outputs": [],
   "source": [
    "#load labels\n",
    "def load_mapping(mapping_path):\n",
    "    with open(mapping_path, 'rb') as f:\n",
    "        import csv\n",
    "        cr = csv.reader(f)\n",
    "        mapping_list = []\n",
    "        for row in cr:\n",
    "            row[1] = float(row[1])\n",
    "            mapping_list.append(row)\n",
    "    return mapping_list            "
   ]
  },
  {
   "cell_type": "code",
   "execution_count": null,
   "metadata": {
    "collapsed": true
   },
   "outputs": [],
   "source": [
    "#function for assigning labels to feature_dict\n",
    "def assign_label(feature_dict, mapping):\n",
    "    for ii,name in enumerate(feature_dict['Video_Name']):\n",
    "        mapping_row = filter(lambda x: x[0] == name[0], mapping)[0]\n",
    "        label = float(mapping_row[1])\n",
    "        feature_dict['Label'][ii] = label        \n",
    "    return feature_dict"
   ]
  },
  {
   "cell_type": "code",
   "execution_count": null,
   "metadata": {
    "collapsed": true
   },
   "outputs": [],
   "source": [
    "#function for turning feature_dict into multi-channel tuple\n",
    "def prep_multichannel_data(feature_dict, return_labels=False, feature_list=['Trajectory', 'HOG', 'HOF', 'MBHx', 'MBHy']):\n",
    "    multichannel_list = []\n",
    "    for feature in feature_list:\n",
    "        multichannel_list.append(np.array(feature_dict[feature]))    \n",
    "    if not return_labels:\n",
    "        return tuple(multichannel_list)\n",
    "    else:\n",
    "        labels = feature_dict['Label']\n",
    "        return tuple(multichannel_list), np.array(labels)"
   ]
  },
  {
   "cell_type": "code",
   "execution_count": null,
   "metadata": {
    "collapsed": false
   },
   "outputs": [],
   "source": [
    "#save the results\n",
    "def save_results(video_name_list, y_test, y_pred, filename='SVR_final_results.csv'):\n",
    "    with open(filename, 'wb') as f:\n",
    "        import csv\n",
    "        cw = csv.writer(f)\n",
    "        cw.writerow(['Video_Name', 'y_test', 'y_pred'])\n",
    "        for ii, name in enumerate(video_name_list):\n",
    "            row = [name[0], y_test[ii], y_pred[ii]]\n",
    "            cw.writerow(row) "
   ]
  },
  {
   "cell_type": "code",
   "execution_count": null,
   "metadata": {
    "collapsed": true
   },
   "outputs": [],
   "source": [
    "mapping = load_mapping(mapping_path)"
   ]
  },
  {
   "cell_type": "code",
   "execution_count": null,
   "metadata": {
    "collapsed": false
   },
   "outputs": [],
   "source": [
    "train_data = assign_label(train_set.feature_dict, mapping)\n",
    "test_data = assign_label(test_set.feature_dict, mapping)"
   ]
  },
  {
   "cell_type": "code",
   "execution_count": null,
   "metadata": {
    "collapsed": false
   },
   "outputs": [],
   "source": [
    "X_train, y_train = prep_multichannel_data(train_data, return_labels=True)\n",
    "X_test, y_test = prep_multichannel_data(test_data, return_labels=True)"
   ]
  },
  {
   "cell_type": "code",
   "execution_count": null,
   "metadata": {
    "collapsed": true
   },
   "outputs": [],
   "source": [
    "#train\n",
    "t0= time.time()\n",
    "mcsvr = MultiChannelSVR(num_channels=5, param_dict={'C':5}, gamma_tuple=(.5,1,1,1,.5))\n",
    "mcsvr.fit(X_train, y_train)\n",
    "t1 = time.time()-t0\n",
    "print t1"
   ]
  },
  {
   "cell_type": "code",
   "execution_count": null,
   "metadata": {
    "collapsed": true
   },
   "outputs": [],
   "source": [
    "#predict\n",
    "y_pred = mcsvr.predict(X_test)\n",
    "score = r2_score(y_test, y_pred)\n",
    "print r'$R^2$ score of {0} \\nCorrelation of {1}'.format(score, np.sqrt(score))"
   ]
  }
 ],
 "metadata": {
  "kernelspec": {
   "display_name": "Python 2",
   "language": "python",
   "name": "python2"
  },
  "language_info": {
   "codemirror_mode": {
    "name": "ipython",
    "version": 2
   },
   "file_extension": ".py",
   "mimetype": "text/x-python",
   "name": "python",
   "nbconvert_exporter": "python",
   "pygments_lexer": "ipython2",
   "version": "2.7.6"
  }
 },
 "nbformat": 4,
 "nbformat_minor": 0
}
