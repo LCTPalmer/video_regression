{
 "cells": [
  {
   "cell_type": "markdown",
   "metadata": {},
   "source": [
    "# Greedy search for best combination of channels to use"
   ]
  },
  {
   "cell_type": "code",
   "execution_count": 26,
   "metadata": {
    "collapsed": false
   },
   "outputs": [],
   "source": [
    "%matplotlib inline\n",
    "\n",
    "#modeling\n",
    "from sklearn.metrics import r2_score\n",
    "from sklearn.preprocessing import Normalizer\n",
    "from multichannel_svr.multichannel_svr import MultiChannelSVR, multichannel_KFoldCV\n",
    "from multichannel_svr.theano_chi2 import theano_chi2\n",
    "from sklearn.metrics.pairwise import chi2_kernel\n",
    "from sklearn.metrics import r2_score\n",
    "\n",
    "#data\n",
    "from sklearn.externals import joblib\n",
    "\n",
    "#number\n",
    "import numpy as np\n",
    "\n",
    "#plotting\n",
    "import matplotlib.pyplot as plt\n",
    "\n",
    "#general\n",
    "from time import time"
   ]
  },
  {
   "cell_type": "code",
   "execution_count": 5,
   "metadata": {
    "collapsed": false
   },
   "outputs": [
    {
     "name": "stdout",
     "output_type": "stream",
     "text": [
      "theano implementation 1.07895627414 times faster \n",
      "\n",
      "all theano kernel matrix elements within 1e-8 of sklearn value: False\n"
     ]
    }
   ],
   "source": [
    "#testing the kernel\n",
    "X = np.random.random((1000,100))\n",
    "X[0,0] = 0 #check for zeros in histograms\n",
    "Y = np.random.random((1000,100))\n",
    "t0 = time()\n",
    "sk = chi2_kernel(X,X)\n",
    "sk_time = time()-t0\n",
    "\n",
    "t0 = time()\n",
    "tk = theano_chi2(X,X, gamma = 10)\n",
    "tk_time = time()-t0\n",
    "\n",
    "print 'theano implementation {0} times faster'.format(sk_time/float(tk_time)),'\\n'\n",
    "print 'all theano kernel matrix elements within 1e-8 of sklearn value: {0}'.format(np.allclose(sk,tk))"
   ]
  },
  {
   "cell_type": "code",
   "execution_count": 2,
   "metadata": {
    "collapsed": false
   },
   "outputs": [],
   "source": [
    "train_set = joblib.load('dataset/train_set_wlabels_it30.pkl')"
   ]
  },
  {
   "cell_type": "code",
   "execution_count": 3,
   "metadata": {
    "collapsed": false
   },
   "outputs": [],
   "source": [
    "#turn into multichannel tuple representation\n",
    "channels = {}\n",
    "channels['Trajectory'] = np.array(train_set.feature_dict['Trajectory'])\n",
    "channels['MBHx'] = np.array(train_set.feature_dict['MBHx'])\n",
    "channels['MBHy'] = np.array(train_set.feature_dict['MBHy'])\n",
    "channels['HOG'] = np.array(train_set.feature_dict['HOG'])\n",
    "channels['HOF'] = np.array(train_set.feature_dict['HOF'])\n",
    "\n",
    "#labels\n",
    "y_train = np.array(train_set.feature_dict['Label'])"
   ]
  },
  {
   "cell_type": "code",
   "execution_count": 7,
   "metadata": {
    "collapsed": false
   },
   "outputs": [
    {
     "name": "stdout",
     "output_type": "stream",
     "text": [
      "time taken 39.6553139687\n"
     ]
    }
   ],
   "source": [
    "#test\n",
    "X_train = (channels['Trajectory'], channels['MBHx'], channels['MBHy'])\n",
    "model_1 = MultiChannelSVR(num_channels=3, gamma_tuple=(1,5,5))\n",
    "t0 = time()\n",
    "model_1.fit(X_train, y_train)\n",
    "print 'time taken {0}'.format(time()-t0)"
   ]
  },
  {
   "cell_type": "code",
   "execution_count": 19,
   "metadata": {
    "collapsed": false
   },
   "outputs": [
    {
     "name": "stdout",
     "output_type": "stream",
     "text": [
      "score for current channels ['Trajectory']: 0.378180976648\n",
      "best score beaten by adding Trajectory channel\n",
      "score for current channels ['MBHx']: 0.444745735212\n",
      "best score beaten by adding MBHx channel\n",
      "score for current channels ['MBHy']: 0.434839126963\n",
      "score for current channels ['HOG']: 0.453721083487\n",
      "best score beaten by adding HOG channel\n",
      "score for current channels ['HOF']: 0.445180034316\n",
      "in this loop, added HOG channel\n",
      "score for current channels ['Trajectory', 'HOG']: 0.487504808627\n",
      "best score beaten by adding Trajectory channel\n",
      "score for current channels ['MBHx', 'HOG']: 0.495913127643\n",
      "best score beaten by adding MBHx channel\n",
      "score for current channels ['MBHy', 'HOG']: 0.485238194445\n",
      "score for current channels ['HOF', 'HOG']: 0.489196630521\n",
      "in this loop, added MBHx channel\n",
      "score for current channels ['Trajectory', 'HOG', 'MBHx']: 0.506231370876\n",
      "best score beaten by adding Trajectory channel\n",
      "score for current channels ['MBHy', 'HOG', 'MBHx']: 0.501053290191\n",
      "score for current channels ['HOF', 'HOG', 'MBHx']: 0.503339742192\n",
      "in this loop, added Trajectory channel\n",
      "score for current channels ['MBHy', 'HOG', 'MBHx', 'Trajectory']: 0.509790881752\n",
      "best score beaten by adding MBHy channel\n",
      "score for current channels ['HOF', 'HOG', 'MBHx', 'Trajectory']: 0.507434958638\n",
      "in this loop, added MBHy channel\n",
      "score for current channels ['HOF', 'HOG', 'MBHx', 'Trajectory', 'MBHy']: 0.510359964785\n",
      "best score beaten by adding HOF channel\n",
      "in this loop, added HOF channel\n",
      "finished!\n"
     ]
    }
   ],
   "source": [
    "#set up channel lists\n",
    "channels_original = ['Trajectory', 'MBHx', 'MBHy', 'HOG', 'HOF']\n",
    "channels_added = []\n",
    "channels_available = ['Trajectory', 'MBHx', 'MBHy', 'HOG', 'HOF']\n",
    "\n",
    "\n",
    "#loop\n",
    "\n",
    "finished=False #change to true when no improvement\n",
    "best_score = 0\n",
    "best_score_previous = 0\n",
    "best_channels = []\n",
    "\n",
    "while not finished:\n",
    "\n",
    "    #loop through new channels\n",
    "    for channel in channels_available:\n",
    "\n",
    "        #add this channel to the channels already added\n",
    "        current_channel_names = [channel] + channels_added #list of channel names\n",
    "\n",
    "        #create the multichannel tuple\n",
    "        current_X = []\n",
    "        for name in current_channel_names:\n",
    "            current_X.append(channels[name])\n",
    "        current_X = tuple(current_X)\n",
    "\n",
    "        #get the score of these chans\n",
    "        #do a 9 element grid search on C=[.1,1,10], new_gamma=[.1,1,10]\n",
    "        model = MultiChannelSVR(num_channels=len(current_X), param_dict={'C': 10}, gamma_tuple=None)\n",
    "        score_list = multichannel_KFoldCV(model=model, X=current_X, y=y_train, n_folds=3, normalize=True, verbose=False)\n",
    "        score = np.mean(score_list)\n",
    "        print 'score for current channels {0}: {1}'.format(current_channel_names, score)\n",
    "\n",
    "        if score > best_score:\n",
    "            best_score = score\n",
    "            channel_added = channel\n",
    "            print 'best score beaten by adding {0} channel'.format(channel)\n",
    "            \n",
    "    if best_score_previous == best_score: #i.e. no change in this loop\n",
    "        finished=True\n",
    "        print 'finished!'\n",
    "    else:\n",
    "        best_score_previous = best_score #update the previous best score\n",
    "        channels_added.append(channel_added)\n",
    "        channels_available.remove(channel_added)\n",
    "        print 'in this loop, added {0} channel'.format(channel_added)"
   ]
  },
  {
   "cell_type": "code",
   "execution_count": 21,
   "metadata": {
    "collapsed": false
   },
   "outputs": [],
   "source": [
    "##ANALYSE ON TEST SET"
   ]
  },
  {
   "cell_type": "code",
   "execution_count": 22,
   "metadata": {
    "collapsed": true
   },
   "outputs": [],
   "source": [
    "#make training set\n",
    "X_train = (channels['Trajectory'], channels['MBHx'], channels['MBHy'], channels['HOG'], channels['HOF'])\n",
    "y_train = np.array(train_set.feature_dict['Label'])"
   ]
  },
  {
   "cell_type": "code",
   "execution_count": 24,
   "metadata": {
    "collapsed": false
   },
   "outputs": [],
   "source": [
    "#load the test set\n",
    "test_set = joblib.load('dataset/test_set_wlabels_it30.pkl')\n",
    "\n",
    "#turn into multichannel tuple representation\n",
    "traj_feats_test = np.array(test_set.feature_dict['Trajectory'])\n",
    "mbhx_feats_test = np.array(test_set.feature_dict['MBHx'])\n",
    "mbhy_feats_test = np.array(test_set.feature_dict['MBHy'])\n",
    "hog_feats_test = np.array(test_set.feature_dict['HOG'])\n",
    "hof_feats_test = np.array(test_set.feature_dict['HOF'])\n",
    "X_test = (traj_feats_test, mbhx_feats_test, mbhy_feats_test, hog_feats_test, hof_feats_test)\n",
    "\n",
    "#labels\n",
    "y_test = np.array(test_set.feature_dict['Label'])"
   ]
  },
  {
   "cell_type": "code",
   "execution_count": 27,
   "metadata": {
    "collapsed": false
   },
   "outputs": [],
   "source": [
    "X_train_norm, X_test_norm = [], []\n",
    "\n",
    "for c_X_train, c_X_test in zip(X_train, X_test):\n",
    "\n",
    "    #normalize\n",
    "    normalizer = Normalizer(norm='l1')\n",
    "    c_X_train = normalizer.fit_transform(c_X_train)\n",
    "    c_X_test = normalizer.fit_transform(c_X_test)\n",
    "\n",
    "    #add the values to this split's channel list\n",
    "    X_train_norm.append(c_X_train)\n",
    "    X_test_norm.append(c_X_test)\n",
    "\n",
    "X_train_norm, X_test_norm = tuple(X_train_norm), tuple(X_test_norm)"
   ]
  },
  {
   "cell_type": "code",
   "execution_count": 29,
   "metadata": {
    "collapsed": false
   },
   "outputs": [],
   "source": [
    "mcsvr_final = MultiChannelSVR(num_channels=5, param_dict={'C':10})"
   ]
  },
  {
   "cell_type": "code",
   "execution_count": null,
   "metadata": {
    "collapsed": true
   },
   "outputs": [],
   "source": [
    "#fit n predict\n",
    "mcsvr_final.fit(X_train_norm, y_train)\n",
    "y_pred = mcsvr_final.predict(X_test_norm)"
   ]
  },
  {
   "cell_type": "code",
   "execution_count": null,
   "metadata": {
    "collapsed": true
   },
   "outputs": [],
   "source": []
  }
 ],
 "metadata": {
  "kernelspec": {
   "display_name": "Python 2",
   "language": "python",
   "name": "python2"
  },
  "language_info": {
   "codemirror_mode": {
    "name": "ipython",
    "version": 2
   },
   "file_extension": ".py",
   "mimetype": "text/x-python",
   "name": "python",
   "nbconvert_exporter": "python",
   "pygments_lexer": "ipython2",
   "version": "2.7.3"
  }
 },
 "nbformat": 4,
 "nbformat_minor": 0
}
