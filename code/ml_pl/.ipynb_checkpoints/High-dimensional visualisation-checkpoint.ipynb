{
 "cells": [
  {
   "cell_type": "code",
   "execution_count": 1,
   "metadata": {
    "collapsed": false
   },
   "outputs": [],
   "source": [
    "#%matplotlib inline\n",
    "import numpy as np\n",
    "import matplotlib.pyplot as plt\n",
    "from matplotlib import cm\n",
    "\n",
    "from time import time\n",
    "\n",
    "from sklearn.externals import joblib\n",
    "from sklearn import manifold"
   ]
  },
  {
   "cell_type": "code",
   "execution_count": 2,
   "metadata": {
    "collapsed": true
   },
   "outputs": [],
   "source": [
    "#Load data\n",
    "train_set = joblib.load('./dataset/train_set_wlabels_it30.pkl')"
   ]
  },
  {
   "cell_type": "code",
   "execution_count": 3,
   "metadata": {
    "collapsed": false
   },
   "outputs": [],
   "source": [
    "#extract features and put into arrays\n",
    "mbhx_feats = np.array(train_set.feature_dict['MBHx'])\n",
    "mbhy_feats = np.array(train_set.feature_dict['MBHy'])\n",
    "traj_feats = np.array(train_set.feature_dict['Trajectory'])\n",
    "hog_feats  = np.array(train_set.feature_dict['HOG'])\n",
    "hof_feats  = np.array(train_set.feature_dict['HOF'])"
   ]
  },
  {
   "cell_type": "code",
   "execution_count": 5,
   "metadata": {
    "collapsed": false
   },
   "outputs": [
    {
     "name": "stdout",
     "output_type": "stream",
     "text": [
      "t-SNE finished in 37.9910240173 seconds. Transformed data of size:(1206, 4000) to size:(1206, 2)\n"
     ]
    }
   ],
   "source": [
    "#try with only trajectory features\n",
    "manifold_TSNE = manifold.TSNE(n_components=2, init='pca')\n",
    "t0 = time()\n",
    "Y_TSNE_traj = manifold_TSNE.fit_transform(traj_feats)\n",
    "t1 = time()\n",
    "print 't-SNE finished in {0} seconds. Transformed data of size:{1} to size:{2}'\\\n",
    ".format(t1-t0, traj_feats.shape, Y_TSNE_traj.shape)"
   ]
  },
  {
   "cell_type": "code",
   "execution_count": 8,
   "metadata": {
    "collapsed": false
   },
   "outputs": [],
   "source": [
    "#plot data\n",
    "#set up the plot\n",
    "def scatter_vis(Y, labels, axis_fontsize = 14, title=\"\", title_fontsize = 16):\n",
    "    fig, ax = plt.subplots(figsize=(16,12))\n",
    "\n",
    "    #scatter plot\n",
    "    cax = plt.scatter(Y[:,0], Y[:,1], c=labels, s=100, alpha=.7, cmap=cm.coolwarm)\n",
    "\n",
    "    #colorbar\n",
    "    cb = fig.colorbar(cax)\n",
    "    cb.set_label('perceptual load (TrueSkill mu)', labelpad=20, fontdict={'fontsize': axis_fontsize})\n",
    "\n",
    "    #axes\n",
    "    ax.set_xlabel('t-SNE component 1', fontdict={'fontsize': axis_fontsize})\n",
    "    ax.set_ylabel('t-SNE component 2', fontdict={'fontsize': axis_fontsize})\n",
    "    ax.grid(b=True)\n",
    "    ax.xaxis.set_ticklabels([])\n",
    "    ax.yaxis.set_ticklabels([])\n",
    "    ax.set_title(title, fontdict={'fontsize': title_fontsize})\n",
    "\n",
    "    return fig, ax"
   ]
  },
  {
   "cell_type": "code",
   "execution_count": 21,
   "metadata": {
    "collapsed": false
   },
   "outputs": [],
   "source": [
    "fig, ax = scatter_vis(Y_TSNE_traj, labels, title='Trajectory features only')\n",
    "plt.show()"
   ]
  },
  {
   "cell_type": "code",
   "execution_count": null,
   "metadata": {
    "collapsed": true
   },
   "outputs": [],
   "source": [
    "#construct motion features\n",
    "motion_feats = np.hstack((mbhx_feats, mbhy_feats, traj_feats))\n",
    "print 'examples x features shape: {0}'.format(motion_feats.shape)\n",
    "labels = np.array(train_set.feature_dict['Label'])\n",
    "print 'labels shape: {0}'.format(labels.shape)"
   ]
  },
  {
   "cell_type": "code",
   "execution_count": 10,
   "metadata": {
    "collapsed": false
   },
   "outputs": [
    {
     "name": "stdout",
     "output_type": "stream",
     "text": [
      "t-SNE finished in 38.6489510536 seconds. Transformed data of size:(1206, 12000) to size:(1206, 2)\n"
     ]
    }
   ],
   "source": [
    "#transform into lower dimensional space for visualisation\n",
    "manifold_TSNE = manifold.TSNE(n_components=2, init='pca')\n",
    "t0 = time()\n",
    "Y_TSNE_motion = manifold_TSNE.fit_transform(motion_feats)\n",
    "t1 = time()\n",
    "print 't-SNE finished in {0} seconds. Transformed data of size:{1} to size:{2}' \\\n",
    ".format(t1-t0, motion_feats.shape, Y_TSNE_motion.shape)"
   ]
  },
  {
   "cell_type": "code",
   "execution_count": null,
   "metadata": {
    "collapsed": false,
    "scrolled": true
   },
   "outputs": [],
   "source": [
    "fig, ax = scatter_vis(Y_TSNE_motion, labels, title='Trajectory + MBH features')\n",
    "plt.show()"
   ]
  },
  {
   "cell_type": "code",
   "execution_count": 12,
   "metadata": {
    "collapsed": false
   },
   "outputs": [
    {
     "name": "stdout",
     "output_type": "stream",
     "text": [
      "t-SNE finished in 41.1924688816 seconds. Transformed data of size:(1206, 20000) to size:(1206, 2)\n"
     ]
    }
   ],
   "source": [
    "#try with full features (20k)\n",
    "full_feats = np.hstack((traj_feats, mbhx_feats, mbhy_feats, hog_feats, hof_feats))\n",
    "manifold_TSNE = manifold.TSNE(n_components=2, init='pca')\n",
    "t0 = time()\n",
    "Y_TSNE_full = manifold_TSNE.fit_transform(full_feats)\n",
    "t1 = time()\n",
    "print 't-SNE finished in {0} seconds. Transformed data of size:{1} to size:{2}'\\\n",
    ".format(t1-t0, full_feats.shape, Y_TSNE_full.shape)"
   ]
  },
  {
   "cell_type": "code",
   "execution_count": 24,
   "metadata": {
    "collapsed": false
   },
   "outputs": [],
   "source": [
    "fig, ax = scatter_vis(Y_TSNE_full, labels, title='Trajectory + MBH + HOG + HOF features (all)')\n",
    "plt.show()"
   ]
  },
  {
   "cell_type": "code",
   "execution_count": null,
   "metadata": {
    "collapsed": true
   },
   "outputs": [],
   "source": [
    "#write csv for visualisation\n",
    "with open('motion_feats_mapping.csv', 'wb') as f:\n",
    "    import csv\n",
    "    cw = csv.writer(f)\n",
    "    for ii, name in enumerate(train_set.feature_dict['Video_Name']):\n",
    "        cw.writerow([name[0], train_set.feature_dict['Label'][ii], Y_TSNE_motion[ii][0], Y_TSNE_motion[ii][1]]"
   ]
  },
  {
   "cell_type": "code",
   "execution_count": null,
   "metadata": {
    "collapsed": true
   },
   "outputs": [],
   "source": []
  }
 ],
 "metadata": {
  "kernelspec": {
   "display_name": "Python 2",
   "language": "python",
   "name": "python2"
  },
  "language_info": {
   "codemirror_mode": {
    "name": "ipython",
    "version": 2
   },
   "file_extension": ".py",
   "mimetype": "text/x-python",
   "name": "python",
   "nbconvert_exporter": "python",
   "pygments_lexer": "ipython2",
   "version": "2.7.3"
  }
 },
 "nbformat": 4,
 "nbformat_minor": 0
}
